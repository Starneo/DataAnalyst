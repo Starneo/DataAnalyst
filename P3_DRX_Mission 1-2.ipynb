{
 "cells": [
  {
   "cell_type": "markdown",
   "metadata": {},
   "source": [
    "<div align=\"center\">\n",
    "<img src = \"Logo-OC.png\", width = 300>\n",
    "</div>"
   ]
  },
  {
   "cell_type": "markdown",
   "metadata": {},
   "source": [
    "<font color=blue>\n",
    "<h2>PROJET 3 - RÉALISER UNE ÉTUDE DE SANTÉ PUBLIQUE<a class=\"tocSkip\"></h2>\n",
    "    \n",
    "https://openclassrooms.com/fr/projects/realisez-une-etude-de-sante-publique\n",
    "\n",
    " <h3>David Raux - 2018 <a class=\"tocSkip\"></h3>\n",
    "    \n",
    "</font>"
   ]
  },
  {
   "cell_type": "markdown",
   "metadata": {},
   "source": [
    "### Sommaire :<a id=\"sommaire\"></a>\n",
    "\n",
    "> [Partie 1 - Préparation des données](#partie1)\n",
    "> - [1. Modifier les noms des colonnes](#1.1)\n",
    "> - [2. Nettoyer le fichier 'population'](#1.2)\n",
    "> - [3. Nettoyer les fichiers 'animaux' et'vegetaux'](#1.3)\n",
    "> - [4. Nettoyer le fichiers 'sous_alimentation'](#1.4)\n",
    "> - [5. Nettoyer le fichier 'cereal'](#1.5)\n",
    "> - [6. Transformation des données](#1.6)\n",
    "> - [7. Identifiez les possibles Clés Primaires](#1.7)\n",
    "> \n",
    "> [Partie 2 - Identifier les grandes tendances](#partie2)\n",
    "> - [Q1. Calculez le nombre total d’humains sur la planète](#2.1)\n",
    "> - [Q2. Identifiez les redondances](#2.2)\n",
    "> - [Q3. Calculez la disponibilité alimentaire (par pays et par produit)](#2.3)\n",
    "> - [Q4. Calculez pour chaque produit le ratio \"énergie/poids\" en kcal/kg](#2.4)\n",
    "> - [Q5. Citez 5 aliments parmi les plus caloriques et les plus riches en protéines](#2.5)\n",
    "> - [Q6. Calculez, pour les produits végétaux uniquement, la disponibilité intérieure mondiale exprimée en kcal](#2.6)\n",
    "> - [Q7. Combien d'humains pourraient être nourris si toute la disponibilité intérieure mondiale de produits végétaux était utilisée pour de la nourriture](#2.7)\n",
    "> - [Q8. Combien d'humains pourraient être nourris si toute la disponibilité alimentaire en produits végétaux (Food), la nourriture végétale destinée aux animaux (Feed) et les pertes de produits végétaux (Losses) étaient utilisés pour de la nourriture ?](#2.8)\n",
    "> - [Q9. Combien d'humains pourraient être nourris avec la disponibilité alimentaire mondiale ?](#2.9)\n",
    "> - [Q10. Quelle proportion de la population mondiale est considérée comme étant en sous-nutrition ?](#2.10)\n",
    "> - [Q11. En ne prenant en compte que les céréales destinées à l'alimentation (humaine et animale), quelle proportion (en termes de poids) est destinée à l'alimentation animale ?](#2.11)\n",
    "> - [Q12. Donnez les 3 produits qui ont la plus grande valeur pour chacun des 2 ratios](#2.12)\n",
    "> - [Q13. Combien de tonnes de céréales pourraient être libérées si les USA diminuaient leur consommation de viande de 10% ?](#2.13)\n",
    "> - [Q14. En Thaïlande, quelle proportion de manioc est exportée ? Quelle est la proportion de personnes en sous-nutrition ?](#2.14)\n",
    ">"
   ]
  },
  {
   "cell_type": "markdown",
   "metadata": {},
   "source": [
    "# Mise en situation\n",
    "\n",
    "Vous êtes intégré à une nouvelle équipe de chercheurs de la Food and Agriculture Organization of the United Nations (FAO) (https://fr.wikipedia.org/wiki/Organisation_des_Nations_unies_pour_l%27alimentation_et_l%27agriculture ), l'un des organes\n",
    "qui compose l'ONU et dont l'objectif est d' « aider à construire un monde libéré de la faim ».\n",
    "\n",
    "Votre équipe est chargée de réaliser une étude de grande ampleur sur le thème de la sous-nutrition dans le monde.\n",
    "\n",
    "Le problème de la faim est complexe et peut avoir de multiples causes, différentes selon les pays. L’étape préliminaire de cette étude sera\n",
    "donc d’établir un “état de l’art” des recherches déjà publiées, mais également de mener une étude statistique destinée à orienter les\n",
    "recherches vers des pays particuliers, et de mettre en lumière différentes causes de la faim. Ainsi, une poignée de data analysts (dont vous !) a\n",
    "été sélectionnée pour mener cette étape préliminaire. Lors de la première réunion, vous avez été désigné pour mettre une place la base de\n",
    "données que votre équipe pourra requéter (en SQL) à souhait pour réaliser cette étude statistique.\n",
    "\n",
    "# Les données\n",
    "\n",
    "Les données sont disponibles sur le site de la FAO, à cet endroit : http://www.fao.org/faostat/fr/#data .\n",
    "\n",
    "En fonction des besoins exprimés plus bas dans cet énoncé, il vous appartiendra de choisir quelles données télécharger. Cependant, les\n",
    "rubriques qui vous seront utiles sont les suivantes :\n",
    "- *Bilans alimentaires*\n",
    "- *Sécurité alimentaire*, puis dans cette rubrique, *Données de la sécurité alimentaire*. Cette rubrique contient de nombreux indicateurs, mais nous ne nous intéresserons ici qu’à l’indicateur *Nombre de personnes sous-alimentées*"
   ]
  },
  {
   "cell_type": "code",
   "execution_count": 76,
   "metadata": {},
   "outputs": [],
   "source": [
    "# Importation des librairies\n",
    "import os\n",
    "import numpy as np\n",
    "import pandas as pd\n",
    "import seaborn as sns\n",
    "import matplotlib.pyplot  as plt\n",
    "%matplotlib inline"
   ]
  },
  {
   "cell_type": "code",
   "execution_count": 77,
   "metadata": {},
   "outputs": [
    {
     "data": {
      "text/plain": [
       "'/Users/davidraux/Google Drive/Parcours OC Data analyst/P3 - Réaliser une étude de santé publique'"
      ]
     },
     "execution_count": 77,
     "metadata": {},
     "output_type": "execute_result"
    }
   ],
   "source": [
    "os.getcwd()"
   ]
  },
  {
   "cell_type": "markdown",
   "metadata": {},
   "source": [
    "[Retour au sommaire](#sommaire)"
   ]
  },
  {
   "cell_type": "markdown",
   "metadata": {},
   "source": [
    "***\n",
    "# <font color=orange> Partie 1 - Préparation des données </font><a id='partie1'> </a>\n",
    "---"
   ]
  },
  {
   "cell_type": "code",
   "execution_count": 78,
   "metadata": {},
   "outputs": [],
   "source": [
    "# Importation des données\n",
    "pop = pd.read_csv('Donnees/population.csv')\n",
    "veg = pd.read_csv('Donnees/vegetaux.csv')\n",
    "ani = pd.read_csv('Donnees/animaux.csv')\n",
    "sous_alim = pd.read_csv('Donnees/sous_alim.csv')\n",
    "cereal = pd.read_csv('Donnees/Bilan alimentaire_Liste céréales.csv')"
   ]
  },
  {
   "cell_type": "markdown",
   "metadata": {},
   "source": [
    "***\n",
    "## <font color=blue>1. Modifier les noms des colonnes</font><a id='1.1'> </a>\n",
    "***"
   ]
  },
  {
   "cell_type": "code",
   "execution_count": 79,
   "metadata": {},
   "outputs": [
    {
     "name": "stdout",
     "output_type": "stream",
     "text": [
      "(175, 14)\n",
      "(104011, 14)\n",
      "(36908, 14)\n",
      "(2448, 14)\n",
      "(16057, 14)\n"
     ]
    }
   ],
   "source": [
    "print(pop.shape)\n",
    "print(veg.shape)\n",
    "print(ani.shape)\n",
    "print(sous_alim.shape)\n",
    "print(cereal.shape)"
   ]
  },
  {
   "cell_type": "code",
   "execution_count": 80,
   "metadata": {
    "scrolled": true
   },
   "outputs": [
    {
     "data": {
      "text/html": [
       "<div>\n",
       "<style scoped>\n",
       "    .dataframe tbody tr th:only-of-type {\n",
       "        vertical-align: middle;\n",
       "    }\n",
       "\n",
       "    .dataframe tbody tr th {\n",
       "        vertical-align: top;\n",
       "    }\n",
       "\n",
       "    .dataframe thead th {\n",
       "        text-align: right;\n",
       "    }\n",
       "</style>\n",
       "<table border=\"1\" class=\"dataframe\">\n",
       "  <thead>\n",
       "    <tr style=\"text-align: right;\">\n",
       "      <th></th>\n",
       "      <th>Code Domaine</th>\n",
       "      <th>Domaine</th>\n",
       "      <th>Code zone</th>\n",
       "      <th>Zone</th>\n",
       "      <th>Code Élément</th>\n",
       "      <th>Élément</th>\n",
       "      <th>Code Produit</th>\n",
       "      <th>Produit</th>\n",
       "      <th>Code année</th>\n",
       "      <th>Année</th>\n",
       "      <th>Unité</th>\n",
       "      <th>Valeur</th>\n",
       "      <th>Symbole</th>\n",
       "      <th>Description du Symbole</th>\n",
       "    </tr>\n",
       "  </thead>\n",
       "  <tbody>\n",
       "    <tr>\n",
       "      <th>0</th>\n",
       "      <td>FS</td>\n",
       "      <td>Données de la sécurité alimentaire</td>\n",
       "      <td>2</td>\n",
       "      <td>Afghanistan</td>\n",
       "      <td>6132</td>\n",
       "      <td>Valeur</td>\n",
       "      <td>21001</td>\n",
       "      <td>Nombre de personnes sous-alimentées (millions)...</td>\n",
       "      <td>20042006</td>\n",
       "      <td>2004-2006</td>\n",
       "      <td>millions</td>\n",
       "      <td>8.1</td>\n",
       "      <td>F</td>\n",
       "      <td>Estimation FAO</td>\n",
       "    </tr>\n",
       "    <tr>\n",
       "      <th>1</th>\n",
       "      <td>FS</td>\n",
       "      <td>Données de la sécurité alimentaire</td>\n",
       "      <td>2</td>\n",
       "      <td>Afghanistan</td>\n",
       "      <td>6132</td>\n",
       "      <td>Valeur</td>\n",
       "      <td>21001</td>\n",
       "      <td>Nombre de personnes sous-alimentées (millions)...</td>\n",
       "      <td>20052007</td>\n",
       "      <td>2005-2007</td>\n",
       "      <td>millions</td>\n",
       "      <td>7.6</td>\n",
       "      <td>F</td>\n",
       "      <td>Estimation FAO</td>\n",
       "    </tr>\n",
       "  </tbody>\n",
       "</table>\n",
       "</div>"
      ],
      "text/plain": [
       "  Code Domaine                             Domaine  Code zone         Zone  \\\n",
       "0           FS  Données de la sécurité alimentaire          2  Afghanistan   \n",
       "1           FS  Données de la sécurité alimentaire          2  Afghanistan   \n",
       "\n",
       "   Code Élément Élément  Code Produit  \\\n",
       "0          6132  Valeur         21001   \n",
       "1          6132  Valeur         21001   \n",
       "\n",
       "                                             Produit  Code année      Année  \\\n",
       "0  Nombre de personnes sous-alimentées (millions)...    20042006  2004-2006   \n",
       "1  Nombre de personnes sous-alimentées (millions)...    20052007  2005-2007   \n",
       "\n",
       "      Unité  Valeur Symbole Description du Symbole  \n",
       "0  millions     8.1       F         Estimation FAO  \n",
       "1  millions     7.6       F         Estimation FAO  "
      ]
     },
     "execution_count": 80,
     "metadata": {},
     "output_type": "execute_result"
    }
   ],
   "source": [
    "sous_alim.head(2)"
   ]
  },
  {
   "cell_type": "code",
   "execution_count": 81,
   "metadata": {},
   "outputs": [],
   "source": [
    "# Suppression des colonnes inutiles :\n",
    "orig_cols = [\"xx\",\"xx2\",\"codePays\",\"pays\",'xx3','element','codeProduit',\n",
    "            'produit','xx4',\"annee\",\"unite\",\"valeur\",'symbole','description']\n",
    "to_delete = [\"xx\",\"xx2\",\"xx3\",\"xx4\"]\n",
    "for df in [veg,ani,sous_alim,pop]:\n",
    "    df.columns = orig_cols\n",
    "    for col in to_delete:\n",
    "        del df[col]"
   ]
  },
  {
   "cell_type": "markdown",
   "metadata": {},
   "source": [
    "[Retour au sommaire](#sommaire)"
   ]
  },
  {
   "cell_type": "markdown",
   "metadata": {},
   "source": [
    "***\n",
    "## <font color=blue>2. Nettoyer le fichier 'population'</font><a id='1.2'> </a>\n",
    "***"
   ]
  },
  {
   "cell_type": "code",
   "execution_count": 82,
   "metadata": {},
   "outputs": [
    {
     "name": "stdout",
     "output_type": "stream",
     "text": [
      "<class 'pandas.core.frame.DataFrame'>\n",
      "RangeIndex: 175 entries, 0 to 174\n",
      "Data columns (total 10 columns):\n",
      "codePays       175 non-null int64\n",
      "pays           175 non-null object\n",
      "element        175 non-null object\n",
      "codeProduit    175 non-null int64\n",
      "produit        175 non-null object\n",
      "annee          175 non-null int64\n",
      "unite          175 non-null object\n",
      "valeur         175 non-null int64\n",
      "symbole        1 non-null object\n",
      "description    175 non-null object\n",
      "dtypes: int64(4), object(6)\n",
      "memory usage: 13.8+ KB\n"
     ]
    }
   ],
   "source": [
    "pop.info()"
   ]
  },
  {
   "cell_type": "code",
   "execution_count": 83,
   "metadata": {},
   "outputs": [
    {
     "data": {
      "text/plain": [
       "array([nan, 'A'], dtype=object)"
      ]
     },
     "execution_count": 83,
     "metadata": {},
     "output_type": "execute_result"
    }
   ],
   "source": [
    "pop.symbole.unique()"
   ]
  },
  {
   "cell_type": "code",
   "execution_count": 84,
   "metadata": {},
   "outputs": [
    {
     "data": {
      "text/html": [
       "<div>\n",
       "<style scoped>\n",
       "    .dataframe tbody tr th:only-of-type {\n",
       "        vertical-align: middle;\n",
       "    }\n",
       "\n",
       "    .dataframe tbody tr th {\n",
       "        vertical-align: top;\n",
       "    }\n",
       "\n",
       "    .dataframe thead th {\n",
       "        text-align: right;\n",
       "    }\n",
       "</style>\n",
       "<table border=\"1\" class=\"dataframe\">\n",
       "  <thead>\n",
       "    <tr style=\"text-align: right;\">\n",
       "      <th></th>\n",
       "      <th>codePays</th>\n",
       "      <th>pays</th>\n",
       "      <th>element</th>\n",
       "      <th>codeProduit</th>\n",
       "      <th>produit</th>\n",
       "      <th>annee</th>\n",
       "      <th>unite</th>\n",
       "      <th>valeur</th>\n",
       "      <th>symbole</th>\n",
       "      <th>description</th>\n",
       "    </tr>\n",
       "  </thead>\n",
       "  <tbody>\n",
       "    <tr>\n",
       "      <th>174</th>\n",
       "      <td>351</td>\n",
       "      <td>Chine</td>\n",
       "      <td>Population totale</td>\n",
       "      <td>2501</td>\n",
       "      <td>Population</td>\n",
       "      <td>2013</td>\n",
       "      <td>1000 personnes</td>\n",
       "      <td>1416667</td>\n",
       "      <td>A</td>\n",
       "      <td>Agrégat, peut inclure des données officielles,...</td>\n",
       "    </tr>\n",
       "  </tbody>\n",
       "</table>\n",
       "</div>"
      ],
      "text/plain": [
       "     codePays   pays            element  codeProduit     produit  annee  \\\n",
       "174       351  Chine  Population totale         2501  Population   2013   \n",
       "\n",
       "              unite   valeur symbole  \\\n",
       "174  1000 personnes  1416667       A   \n",
       "\n",
       "                                           description  \n",
       "174  Agrégat, peut inclure des données officielles,...  "
      ]
     },
     "execution_count": 84,
     "metadata": {},
     "output_type": "execute_result"
    }
   ],
   "source": [
    "pop.loc[pop.symbole=='A']     ## Afficher les lignes dont le symbole est 'A'"
   ]
  },
  {
   "cell_type": "markdown",
   "metadata": {},
   "source": [
    "***\n",
    "La ligne 174 est une agrégation des pays composant la Chine.\n",
    "Il y a donc des doublons, il faut nettoyer le dataset pour obtenir le nombre total d'humains.\n",
    "***"
   ]
  },
  {
   "cell_type": "code",
   "execution_count": 85,
   "metadata": {
    "scrolled": true
   },
   "outputs": [
    {
     "data": {
      "text/html": [
       "<div>\n",
       "<style scoped>\n",
       "    .dataframe tbody tr th:only-of-type {\n",
       "        vertical-align: middle;\n",
       "    }\n",
       "\n",
       "    .dataframe tbody tr th {\n",
       "        vertical-align: top;\n",
       "    }\n",
       "\n",
       "    .dataframe thead th {\n",
       "        text-align: right;\n",
       "    }\n",
       "</style>\n",
       "<table border=\"1\" class=\"dataframe\">\n",
       "  <thead>\n",
       "    <tr style=\"text-align: right;\">\n",
       "      <th></th>\n",
       "      <th>codePays</th>\n",
       "      <th>pays</th>\n",
       "      <th>element</th>\n",
       "      <th>codeProduit</th>\n",
       "      <th>produit</th>\n",
       "      <th>annee</th>\n",
       "      <th>unite</th>\n",
       "      <th>valeur</th>\n",
       "      <th>symbole</th>\n",
       "      <th>description</th>\n",
       "    </tr>\n",
       "  </thead>\n",
       "  <tbody>\n",
       "    <tr>\n",
       "      <th>33</th>\n",
       "      <td>96</td>\n",
       "      <td>Chine - RAS de Hong-Kong</td>\n",
       "      <td>Population totale</td>\n",
       "      <td>2501</td>\n",
       "      <td>Population</td>\n",
       "      <td>2013</td>\n",
       "      <td>1000 personnes</td>\n",
       "      <td>7204</td>\n",
       "      <td>NaN</td>\n",
       "      <td>Donnée officielle</td>\n",
       "    </tr>\n",
       "    <tr>\n",
       "      <th>34</th>\n",
       "      <td>128</td>\n",
       "      <td>Chine - RAS de Macao</td>\n",
       "      <td>Population totale</td>\n",
       "      <td>2501</td>\n",
       "      <td>Population</td>\n",
       "      <td>2013</td>\n",
       "      <td>1000 personnes</td>\n",
       "      <td>566</td>\n",
       "      <td>NaN</td>\n",
       "      <td>Donnée officielle</td>\n",
       "    </tr>\n",
       "    <tr>\n",
       "      <th>35</th>\n",
       "      <td>41</td>\n",
       "      <td>Chine, continentale</td>\n",
       "      <td>Population totale</td>\n",
       "      <td>2501</td>\n",
       "      <td>Population</td>\n",
       "      <td>2013</td>\n",
       "      <td>1000 personnes</td>\n",
       "      <td>1385567</td>\n",
       "      <td>NaN</td>\n",
       "      <td>Donnée officielle</td>\n",
       "    </tr>\n",
       "    <tr>\n",
       "      <th>36</th>\n",
       "      <td>214</td>\n",
       "      <td>Chine, Taiwan Province de</td>\n",
       "      <td>Population totale</td>\n",
       "      <td>2501</td>\n",
       "      <td>Population</td>\n",
       "      <td>2013</td>\n",
       "      <td>1000 personnes</td>\n",
       "      <td>23330</td>\n",
       "      <td>NaN</td>\n",
       "      <td>Donnée officielle</td>\n",
       "    </tr>\n",
       "    <tr>\n",
       "      <th>174</th>\n",
       "      <td>351</td>\n",
       "      <td>Chine</td>\n",
       "      <td>Population totale</td>\n",
       "      <td>2501</td>\n",
       "      <td>Population</td>\n",
       "      <td>2013</td>\n",
       "      <td>1000 personnes</td>\n",
       "      <td>1416667</td>\n",
       "      <td>A</td>\n",
       "      <td>Agrégat, peut inclure des données officielles,...</td>\n",
       "    </tr>\n",
       "  </tbody>\n",
       "</table>\n",
       "</div>"
      ],
      "text/plain": [
       "     codePays                       pays            element  codeProduit  \\\n",
       "33         96   Chine - RAS de Hong-Kong  Population totale         2501   \n",
       "34        128       Chine - RAS de Macao  Population totale         2501   \n",
       "35         41        Chine, continentale  Population totale         2501   \n",
       "36        214  Chine, Taiwan Province de  Population totale         2501   \n",
       "174       351                      Chine  Population totale         2501   \n",
       "\n",
       "        produit  annee           unite   valeur symbole  \\\n",
       "33   Population   2013  1000 personnes     7204     NaN   \n",
       "34   Population   2013  1000 personnes      566     NaN   \n",
       "35   Population   2013  1000 personnes  1385567     NaN   \n",
       "36   Population   2013  1000 personnes    23330     NaN   \n",
       "174  Population   2013  1000 personnes  1416667       A   \n",
       "\n",
       "                                           description  \n",
       "33                                   Donnée officielle  \n",
       "34                                   Donnée officielle  \n",
       "35                                   Donnée officielle  \n",
       "36                                   Donnée officielle  \n",
       "174  Agrégat, peut inclure des données officielles,...  "
      ]
     },
     "execution_count": 85,
     "metadata": {},
     "output_type": "execute_result"
    }
   ],
   "source": [
    "## Afficher toutes les lignes où les pays dont le code pays contient \"Chine\"\n",
    "pop.loc[pop.pays.str.contains('Chine')]"
   ]
  },
  {
   "cell_type": "markdown",
   "metadata": {},
   "source": [
    ">Le Pays 'Chine' correspond bien à l'agrégation des 4 pays ayant pour Code Pays : 96, 128, 41 et 214.\n",
    "Nous allons donc nettoyer notre dataframe pour ne garder que la population hors agrégation de la Chine"
   ]
  },
  {
   "cell_type": "code",
   "execution_count": 86,
   "metadata": {
    "scrolled": false
   },
   "outputs": [
    {
     "name": "stderr",
     "output_type": "stream",
     "text": [
      "/Users/davidraux/anaconda3/lib/python3.6/site-packages/pandas/core/indexing.py:543: SettingWithCopyWarning: \n",
      "A value is trying to be set on a copy of a slice from a DataFrame.\n",
      "Try using .loc[row_indexer,col_indexer] = value instead\n",
      "\n",
      "See the caveats in the documentation: http://pandas.pydata.org/pandas-docs/stable/indexing.html#indexing-view-versus-copy\n",
      "  self.obj[item] = s\n"
     ]
    },
    {
     "data": {
      "text/html": [
       "<div>\n",
       "<style scoped>\n",
       "    .dataframe tbody tr th:only-of-type {\n",
       "        vertical-align: middle;\n",
       "    }\n",
       "\n",
       "    .dataframe tbody tr th {\n",
       "        vertical-align: top;\n",
       "    }\n",
       "\n",
       "    .dataframe thead th {\n",
       "        text-align: right;\n",
       "    }\n",
       "</style>\n",
       "<table border=\"1\" class=\"dataframe\">\n",
       "  <thead>\n",
       "    <tr style=\"text-align: right;\">\n",
       "      <th></th>\n",
       "      <th>codePays</th>\n",
       "      <th>pays</th>\n",
       "      <th>annee</th>\n",
       "      <th>population</th>\n",
       "    </tr>\n",
       "  </thead>\n",
       "  <tbody>\n",
       "    <tr>\n",
       "      <th>0</th>\n",
       "      <td>2</td>\n",
       "      <td>Afghanistan</td>\n",
       "      <td>2013</td>\n",
       "      <td>30552000.0</td>\n",
       "    </tr>\n",
       "    <tr>\n",
       "      <th>1</th>\n",
       "      <td>202</td>\n",
       "      <td>Afrique du Sud</td>\n",
       "      <td>2013</td>\n",
       "      <td>52776000.0</td>\n",
       "    </tr>\n",
       "  </tbody>\n",
       "</table>\n",
       "</div>"
      ],
      "text/plain": [
       "   codePays            pays  annee  population\n",
       "0         2     Afghanistan   2013  30552000.0\n",
       "1       202  Afrique du Sud   2013  52776000.0"
      ]
     },
     "execution_count": 86,
     "metadata": {},
     "output_type": "execute_result"
    }
   ],
   "source": [
    "# Supprimer le pays 'Chine' et les valeur nulles de populations.\n",
    "pop = pop.loc[pop.codePays!=351]\n",
    "pop.loc[:,\"valeur\"] = pop[\"valeur\"] * 1e3\n",
    "pop = pop[['codePays','pays','annee','valeur']]\n",
    "pop.columns = ['codePays','pays','annee', \"population\"]\n",
    "pop.head(2)"
   ]
  },
  {
   "cell_type": "code",
   "execution_count": 87,
   "metadata": {
    "scrolled": true
   },
   "outputs": [
    {
     "data": {
      "text/plain": [
       "(0, 4)"
      ]
     },
     "execution_count": 87,
     "metadata": {},
     "output_type": "execute_result"
    }
   ],
   "source": [
    "# Recherche de valeurs nulles ou négative\n",
    "pop.loc[pop.population <= 0].shape "
   ]
  },
  {
   "cell_type": "code",
   "execution_count": 88,
   "metadata": {},
   "outputs": [
    {
     "data": {
      "text/plain": [
       "count    1.740000e+02\n",
       "mean     4.021452e+07\n",
       "std      1.456198e+08\n",
       "min      5.400000e+04\n",
       "25%      2.423250e+06\n",
       "50%      9.385000e+06\n",
       "75%      2.857100e+07\n",
       "max      1.385567e+09\n",
       "Name: population, dtype: float64"
      ]
     },
     "execution_count": 88,
     "metadata": {},
     "output_type": "execute_result"
    }
   ],
   "source": [
    "# Visualition de la distributions\n",
    "pop.population.describe()"
   ]
  },
  {
   "cell_type": "markdown",
   "metadata": {},
   "source": [
    "> Le fichier est propre. Pas de valeurs nulles ou négatives et apparemment pas de valeurs aberrantes"
   ]
  },
  {
   "cell_type": "markdown",
   "metadata": {},
   "source": [
    "[Retour au sommaire](#sommaire)"
   ]
  },
  {
   "cell_type": "markdown",
   "metadata": {},
   "source": [
    "***\n",
    "## <font color=blue>3. Nettoyer les fichiers 'animaux' et'vegetaux'</font><a id='1.3'> </a>\n",
    "***"
   ]
  },
  {
   "cell_type": "code",
   "execution_count": 89,
   "metadata": {
    "scrolled": false
   },
   "outputs": [
    {
     "data": {
      "text/html": [
       "<div>\n",
       "<style scoped>\n",
       "    .dataframe tbody tr th:only-of-type {\n",
       "        vertical-align: middle;\n",
       "    }\n",
       "\n",
       "    .dataframe tbody tr th {\n",
       "        vertical-align: top;\n",
       "    }\n",
       "\n",
       "    .dataframe thead th {\n",
       "        text-align: right;\n",
       "    }\n",
       "</style>\n",
       "<table border=\"1\" class=\"dataframe\">\n",
       "  <thead>\n",
       "    <tr style=\"text-align: right;\">\n",
       "      <th></th>\n",
       "      <th>codePays</th>\n",
       "      <th>pays</th>\n",
       "      <th>element</th>\n",
       "      <th>codeProduit</th>\n",
       "      <th>produit</th>\n",
       "      <th>annee</th>\n",
       "      <th>unite</th>\n",
       "      <th>valeur</th>\n",
       "      <th>symbole</th>\n",
       "      <th>description</th>\n",
       "      <th>groupe</th>\n",
       "    </tr>\n",
       "  </thead>\n",
       "  <tbody>\n",
       "    <tr>\n",
       "      <th>0</th>\n",
       "      <td>2</td>\n",
       "      <td>Afghanistan</td>\n",
       "      <td>Production</td>\n",
       "      <td>2731</td>\n",
       "      <td>Viande de Bovins</td>\n",
       "      <td>2013</td>\n",
       "      <td>Milliers de tonnes</td>\n",
       "      <td>134.0</td>\n",
       "      <td>S</td>\n",
       "      <td>Données standardisées</td>\n",
       "      <td>animal</td>\n",
       "    </tr>\n",
       "    <tr>\n",
       "      <th>1</th>\n",
       "      <td>2</td>\n",
       "      <td>Afghanistan</td>\n",
       "      <td>Importations - Quantité</td>\n",
       "      <td>2731</td>\n",
       "      <td>Viande de Bovins</td>\n",
       "      <td>2013</td>\n",
       "      <td>Milliers de tonnes</td>\n",
       "      <td>6.0</td>\n",
       "      <td>S</td>\n",
       "      <td>Données standardisées</td>\n",
       "      <td>animal</td>\n",
       "    </tr>\n",
       "  </tbody>\n",
       "</table>\n",
       "</div>"
      ],
      "text/plain": [
       "   codePays         pays                  element  codeProduit  \\\n",
       "0         2  Afghanistan               Production         2731   \n",
       "1         2  Afghanistan  Importations - Quantité         2731   \n",
       "\n",
       "            produit  annee               unite  valeur symbole  \\\n",
       "0  Viande de Bovins   2013  Milliers de tonnes   134.0       S   \n",
       "1  Viande de Bovins   2013  Milliers de tonnes     6.0       S   \n",
       "\n",
       "             description  groupe  \n",
       "0  Données standardisées  animal  \n",
       "1  Données standardisées  animal  "
      ]
     },
     "execution_count": 89,
     "metadata": {},
     "output_type": "execute_result"
    }
   ],
   "source": [
    "# Ajout de la variable 'groupe' \n",
    "ani[\"groupe\"] = \"animal\"\n",
    "veg[\"groupe\"] = \"vegetal\"\n",
    "\n",
    "# Concatener les deux dataframes (animaux et végétaux)\n",
    "ani_veg = pd.concat((ani,veg))\n",
    "ani_veg.head(2)"
   ]
  },
  {
   "cell_type": "code",
   "execution_count": 90,
   "metadata": {},
   "outputs": [
    {
     "data": {
      "text/plain": [
       "array(['Chine - RAS de Hong-Kong', 'Chine - RAS de Macao',\n",
       "       'Chine, continentale', 'Chine, Taiwan Province de'], dtype=object)"
      ]
     },
     "execution_count": 90,
     "metadata": {},
     "output_type": "execute_result"
    }
   ],
   "source": [
    "# Nettoyage de la redondance de la Chine\n",
    "ani_veg = ani_veg[ani_veg.codePays != 351]\n",
    "\n",
    "# Affichage des pays composants la Chine\n",
    "ani_veg[ani_veg.pays.str.contains('Chine')]['pays'].unique()"
   ]
  },
  {
   "cell_type": "code",
   "execution_count": 91,
   "metadata": {},
   "outputs": [
    {
     "data": {
      "text/plain": [
       "(0, 11)"
      ]
     },
     "execution_count": 91,
     "metadata": {},
     "output_type": "execute_result"
    }
   ],
   "source": [
    "# Vérifier s'il y a des valeurs Nan\n",
    "ani_veg.loc[np.isnan(ani_veg.valeur)].shape"
   ]
  },
  {
   "cell_type": "code",
   "execution_count": 92,
   "metadata": {},
   "outputs": [
    {
     "data": {
      "text/plain": [
       "(45504, 11)"
      ]
     },
     "execution_count": 92,
     "metadata": {},
     "output_type": "execute_result"
    }
   ],
   "source": [
    "# Visualiser les valeurs nulles\n",
    "ani_veg.loc[ani_veg.valeur ==0].shape"
   ]
  },
  {
   "cell_type": "markdown",
   "metadata": {},
   "source": [
    "> Il y a 45504 lignes où la valeur de l'élément est nulle.<br/>\n",
    "> Nous pouvons supprimer ces lignes"
   ]
  },
  {
   "cell_type": "code",
   "execution_count": 93,
   "metadata": {},
   "outputs": [
    {
     "data": {
      "text/plain": [
       "(0, 11)"
      ]
     },
     "execution_count": 93,
     "metadata": {},
     "output_type": "execute_result"
    }
   ],
   "source": [
    "# Supprimer les valeurs nulles\n",
    "ani_veg = ani_veg.loc[ani_veg.valeur !=0]\n",
    "ani_veg.loc[ani_veg.valeur ==0].shape"
   ]
  },
  {
   "cell_type": "code",
   "execution_count": 94,
   "metadata": {},
   "outputs": [
    {
     "data": {
      "text/html": [
       "<div>\n",
       "<style scoped>\n",
       "    .dataframe tbody tr th:only-of-type {\n",
       "        vertical-align: middle;\n",
       "    }\n",
       "\n",
       "    .dataframe tbody tr th {\n",
       "        vertical-align: top;\n",
       "    }\n",
       "\n",
       "    .dataframe thead th {\n",
       "        text-align: right;\n",
       "    }\n",
       "</style>\n",
       "<table border=\"1\" class=\"dataframe\">\n",
       "  <thead>\n",
       "    <tr style=\"text-align: right;\">\n",
       "      <th></th>\n",
       "      <th>codePays</th>\n",
       "      <th>pays</th>\n",
       "      <th>element</th>\n",
       "      <th>codeProduit</th>\n",
       "      <th>produit</th>\n",
       "      <th>annee</th>\n",
       "      <th>unite</th>\n",
       "      <th>valeur</th>\n",
       "      <th>symbole</th>\n",
       "      <th>description</th>\n",
       "      <th>groupe</th>\n",
       "    </tr>\n",
       "  </thead>\n",
       "  <tbody>\n",
       "    <tr>\n",
       "      <th>0</th>\n",
       "      <td>2</td>\n",
       "      <td>Afghanistan</td>\n",
       "      <td>Production</td>\n",
       "      <td>2731</td>\n",
       "      <td>Viande de Bovins</td>\n",
       "      <td>2013</td>\n",
       "      <td>Milliers de tonnes</td>\n",
       "      <td>134.0</td>\n",
       "      <td>S</td>\n",
       "      <td>Données standardisées</td>\n",
       "      <td>animal</td>\n",
       "    </tr>\n",
       "    <tr>\n",
       "      <th>1</th>\n",
       "      <td>2</td>\n",
       "      <td>Afghanistan</td>\n",
       "      <td>Importations - Quantité</td>\n",
       "      <td>2731</td>\n",
       "      <td>Viande de Bovins</td>\n",
       "      <td>2013</td>\n",
       "      <td>Milliers de tonnes</td>\n",
       "      <td>6.0</td>\n",
       "      <td>S</td>\n",
       "      <td>Données standardisées</td>\n",
       "      <td>animal</td>\n",
       "    </tr>\n",
       "  </tbody>\n",
       "</table>\n",
       "</div>"
      ],
      "text/plain": [
       "   codePays         pays                  element  codeProduit  \\\n",
       "0         2  Afghanistan               Production         2731   \n",
       "1         2  Afghanistan  Importations - Quantité         2731   \n",
       "\n",
       "            produit  annee               unite  valeur symbole  \\\n",
       "0  Viande de Bovins   2013  Milliers de tonnes   134.0       S   \n",
       "1  Viande de Bovins   2013  Milliers de tonnes     6.0       S   \n",
       "\n",
       "             description  groupe  \n",
       "0  Données standardisées  animal  \n",
       "1  Données standardisées  animal  "
      ]
     },
     "execution_count": 94,
     "metadata": {},
     "output_type": "execute_result"
    }
   ],
   "source": [
    "ani_veg.head(2)"
   ]
  },
  {
   "cell_type": "markdown",
   "metadata": {},
   "source": [
    "[Retour au sommaire](#sommaire)"
   ]
  },
  {
   "cell_type": "markdown",
   "metadata": {},
   "source": [
    "***\n",
    "## <font color=blue>4. Nettoyer le fichiers 'sous_alimentation'</font><a id ='1.4'></a>\n",
    "***"
   ]
  },
  {
   "cell_type": "code",
   "execution_count": 95,
   "metadata": {},
   "outputs": [
    {
     "data": {
      "text/plain": [
       "array(['Chine - RAS de Hong-Kong', 'Chine - RAS de Macao',\n",
       "       'Chine, continentale', 'Chine, Taiwan Province de'], dtype=object)"
      ]
     },
     "execution_count": 95,
     "metadata": {},
     "output_type": "execute_result"
    }
   ],
   "source": [
    "# Nettoyage de la redondance de la Chine\n",
    "sous_alim = sous_alim[sous_alim.codePays != 351]\n",
    "\n",
    "# Affichage des pays composants la Chine\n",
    "sous_alim[sous_alim.pays.str.contains('Chine')]['pays'].unique()"
   ]
  },
  {
   "cell_type": "code",
   "execution_count": 96,
   "metadata": {
    "scrolled": false
   },
   "outputs": [
    {
     "data": {
      "text/html": [
       "<div>\n",
       "<style scoped>\n",
       "    .dataframe tbody tr th:only-of-type {\n",
       "        vertical-align: middle;\n",
       "    }\n",
       "\n",
       "    .dataframe tbody tr th {\n",
       "        vertical-align: top;\n",
       "    }\n",
       "\n",
       "    .dataframe thead th {\n",
       "        text-align: right;\n",
       "    }\n",
       "</style>\n",
       "<table border=\"1\" class=\"dataframe\">\n",
       "  <thead>\n",
       "    <tr style=\"text-align: right;\">\n",
       "      <th></th>\n",
       "      <th>codePays</th>\n",
       "      <th>pays</th>\n",
       "      <th>element</th>\n",
       "      <th>codeProduit</th>\n",
       "      <th>produit</th>\n",
       "      <th>annee</th>\n",
       "      <th>unite</th>\n",
       "      <th>valeur</th>\n",
       "      <th>symbole</th>\n",
       "      <th>description</th>\n",
       "    </tr>\n",
       "  </thead>\n",
       "  <tbody>\n",
       "    <tr>\n",
       "      <th>0</th>\n",
       "      <td>2</td>\n",
       "      <td>Afghanistan</td>\n",
       "      <td>Valeur</td>\n",
       "      <td>21001</td>\n",
       "      <td>Nombre de personnes sous-alimentées (millions)...</td>\n",
       "      <td>2005</td>\n",
       "      <td>millions</td>\n",
       "      <td>8.1</td>\n",
       "      <td>F</td>\n",
       "      <td>Estimation FAO</td>\n",
       "    </tr>\n",
       "    <tr>\n",
       "      <th>1</th>\n",
       "      <td>2</td>\n",
       "      <td>Afghanistan</td>\n",
       "      <td>Valeur</td>\n",
       "      <td>21001</td>\n",
       "      <td>Nombre de personnes sous-alimentées (millions)...</td>\n",
       "      <td>2006</td>\n",
       "      <td>millions</td>\n",
       "      <td>7.6</td>\n",
       "      <td>F</td>\n",
       "      <td>Estimation FAO</td>\n",
       "    </tr>\n",
       "  </tbody>\n",
       "</table>\n",
       "</div>"
      ],
      "text/plain": [
       "   codePays         pays element  codeProduit  \\\n",
       "0         2  Afghanistan  Valeur        21001   \n",
       "1         2  Afghanistan  Valeur        21001   \n",
       "\n",
       "                                             produit  annee     unite  valeur  \\\n",
       "0  Nombre de personnes sous-alimentées (millions)...   2005  millions     8.1   \n",
       "1  Nombre de personnes sous-alimentées (millions)...   2006  millions     7.6   \n",
       "\n",
       "  symbole     description  \n",
       "0       F  Estimation FAO  \n",
       "1       F  Estimation FAO  "
      ]
     },
     "execution_count": 96,
     "metadata": {},
     "output_type": "execute_result"
    }
   ],
   "source": [
    "# Modification de la colonne \"annee\" du dataframe \"sous_alim\"\n",
    "transf = {\n",
    "    '2004-2006': 2005,\n",
    "    '2005-2007': 2006,\n",
    "    '2006-2008': 2007,\n",
    "    '2007-2009': 2008,\n",
    "    '2008-2010': 2009,\n",
    "    '2009-2011': 2010,\n",
    "    '2010-2012': 2011,\n",
    "    '2011-2013': 2012,\n",
    "    '2012-2014': 2013,\n",
    "    '2013-2015': 2014,\n",
    "    '2014-2016': 2015,\n",
    "    '2015-2017': 2016}\n",
    "sous_alim[\"annee\"] = [transf[v] for v in sous_alim[\"annee\"].values]\n",
    "sous_alim.head(2)"
   ]
  },
  {
   "cell_type": "code",
   "execution_count": 97,
   "metadata": {},
   "outputs": [
    {
     "data": {
      "text/plain": [
       "(0, 10)"
      ]
     },
     "execution_count": 97,
     "metadata": {},
     "output_type": "execute_result"
    }
   ],
   "source": [
    "# Visualiser les valeurs nulles ou négatives\n",
    "sous_alim.loc[sous_alim.valeur <= 0].shape"
   ]
  },
  {
   "cell_type": "code",
   "execution_count": 98,
   "metadata": {},
   "outputs": [
    {
     "name": "stdout",
     "output_type": "stream",
     "text": [
      "1329 lignes ont comme valeur = Nan\n",
      "----------------------------------------\n",
      "Non applicable                                     542\n",
      "Statistiquement insignificant                      489\n",
      "Moins de 100 000 personnes sont sous-alimentées    298\n",
      "Name: description, dtype: int64\n",
      "----------------------------------------\n",
      "NS      489\n",
      "<0.1    298\n",
      "Name: symbole, dtype: int64\n"
     ]
    }
   ],
   "source": [
    "# Analyser les valeurs Nan\n",
    "print('{} lignes ont comme valeur = Nan'.format(sous_alim.loc[sous_alim.valeur.isna()].shape[0]))\n",
    "print('-'*40)\n",
    "print(sous_alim.loc[sous_alim.valeur.isna()].description.value_counts())\n",
    "print('-'*40)\n",
    "print(sous_alim.loc[sous_alim.valeur.isna()].symbole.value_counts())"
   ]
  },
  {
   "cell_type": "code",
   "execution_count": 99,
   "metadata": {},
   "outputs": [
    {
     "name": "stdout",
     "output_type": "stream",
     "text": [
      "0 lignes ont comme valeur = Nan\n"
     ]
    }
   ],
   "source": [
    "# Réstriction sur les lignes venant de l'estimation de la FAO\n",
    "sous_alim = sous_alim.fillna(0)\n",
    "\n",
    "# Analyser les valeurs Nan\n",
    "print('{} lignes ont comme valeur = Nan'.format(sous_alim.loc[sous_alim.valeur.isna()].shape[0]))"
   ]
  },
  {
   "cell_type": "code",
   "execution_count": 100,
   "metadata": {
    "scrolled": true
   },
   "outputs": [
    {
     "data": {
      "text/html": [
       "<div>\n",
       "<style scoped>\n",
       "    .dataframe tbody tr th:only-of-type {\n",
       "        vertical-align: middle;\n",
       "    }\n",
       "\n",
       "    .dataframe tbody tr th {\n",
       "        vertical-align: top;\n",
       "    }\n",
       "\n",
       "    .dataframe thead th {\n",
       "        text-align: right;\n",
       "    }\n",
       "</style>\n",
       "<table border=\"1\" class=\"dataframe\">\n",
       "  <thead>\n",
       "    <tr style=\"text-align: right;\">\n",
       "      <th></th>\n",
       "      <th>codePays</th>\n",
       "      <th>pays</th>\n",
       "      <th>annee</th>\n",
       "      <th>nb_pers_sousalim</th>\n",
       "    </tr>\n",
       "  </thead>\n",
       "  <tbody>\n",
       "    <tr>\n",
       "      <th>0</th>\n",
       "      <td>2</td>\n",
       "      <td>Afghanistan</td>\n",
       "      <td>2005</td>\n",
       "      <td>8100000.0</td>\n",
       "    </tr>\n",
       "    <tr>\n",
       "      <th>1</th>\n",
       "      <td>2</td>\n",
       "      <td>Afghanistan</td>\n",
       "      <td>2006</td>\n",
       "      <td>7600000.0</td>\n",
       "    </tr>\n",
       "  </tbody>\n",
       "</table>\n",
       "</div>"
      ],
      "text/plain": [
       "   codePays         pays  annee  nb_pers_sousalim\n",
       "0         2  Afghanistan   2005         8100000.0\n",
       "1         2  Afghanistan   2006         7600000.0"
      ]
     },
     "execution_count": 100,
     "metadata": {},
     "output_type": "execute_result"
    }
   ],
   "source": [
    "# Transformer la colonne valeur en nb_pers_sousalim en millions.\n",
    "sous_alim = sous_alim[['codePays','pays','annee','valeur']]\n",
    "sous_alim.loc[:,'valeur'] = (sous_alim.valeur)* 1e6\n",
    "sous_alim.columns = ['codePays','pays','annee','nb_pers_sousalim']\n",
    "sous_alim.head(2)"
   ]
  },
  {
   "cell_type": "code",
   "execution_count": 101,
   "metadata": {},
   "outputs": [
    {
     "name": "stdout",
     "output_type": "stream",
     "text": [
      "<class 'pandas.core.frame.DataFrame'>\n",
      "Int64Index: 2436 entries, 0 to 2447\n",
      "Data columns (total 4 columns):\n",
      "codePays            2436 non-null int64\n",
      "pays                2436 non-null object\n",
      "annee               2436 non-null int64\n",
      "nb_pers_sousalim    2436 non-null float64\n",
      "dtypes: float64(1), int64(2), object(1)\n",
      "memory usage: 95.2+ KB\n"
     ]
    }
   ],
   "source": [
    "sous_alim.info()"
   ]
  },
  {
   "cell_type": "markdown",
   "metadata": {},
   "source": [
    "[Retour au sommaire](#sommaire)"
   ]
  },
  {
   "cell_type": "markdown",
   "metadata": {},
   "source": [
    "***\n",
    "## <font color=blue>5. Nettoyer le fichier 'cereal'</font><a id ='1.5'></a>\n",
    "***"
   ]
  },
  {
   "cell_type": "code",
   "execution_count": 102,
   "metadata": {},
   "outputs": [
    {
     "data": {
      "text/html": [
       "<div>\n",
       "<style scoped>\n",
       "    .dataframe tbody tr th:only-of-type {\n",
       "        vertical-align: middle;\n",
       "    }\n",
       "\n",
       "    .dataframe tbody tr th {\n",
       "        vertical-align: top;\n",
       "    }\n",
       "\n",
       "    .dataframe thead th {\n",
       "        text-align: right;\n",
       "    }\n",
       "</style>\n",
       "<table border=\"1\" class=\"dataframe\">\n",
       "  <thead>\n",
       "    <tr style=\"text-align: right;\">\n",
       "      <th></th>\n",
       "      <th>Code Domaine</th>\n",
       "      <th>Domaine</th>\n",
       "      <th>Code Pays</th>\n",
       "      <th>Pays</th>\n",
       "      <th>Code Élément</th>\n",
       "      <th>Élément</th>\n",
       "      <th>Code Produit</th>\n",
       "      <th>Produit</th>\n",
       "      <th>Code Année</th>\n",
       "      <th>Année</th>\n",
       "      <th>Unité</th>\n",
       "      <th>Valeur</th>\n",
       "      <th>Symbole</th>\n",
       "      <th>Description du Symbole</th>\n",
       "    </tr>\n",
       "  </thead>\n",
       "  <tbody>\n",
       "    <tr>\n",
       "      <th>0</th>\n",
       "      <td>FBS</td>\n",
       "      <td>Bilans Alimentaires</td>\n",
       "      <td>2</td>\n",
       "      <td>Afghanistan</td>\n",
       "      <td>5511</td>\n",
       "      <td>Production</td>\n",
       "      <td>2511</td>\n",
       "      <td>Blé</td>\n",
       "      <td>2013</td>\n",
       "      <td>2013</td>\n",
       "      <td>Milliers de tonnes</td>\n",
       "      <td>5169.0</td>\n",
       "      <td>S</td>\n",
       "      <td>Données standardisées</td>\n",
       "    </tr>\n",
       "    <tr>\n",
       "      <th>1</th>\n",
       "      <td>FBS</td>\n",
       "      <td>Bilans Alimentaires</td>\n",
       "      <td>2</td>\n",
       "      <td>Afghanistan</td>\n",
       "      <td>5611</td>\n",
       "      <td>Importations - Quantité</td>\n",
       "      <td>2511</td>\n",
       "      <td>Blé</td>\n",
       "      <td>2013</td>\n",
       "      <td>2013</td>\n",
       "      <td>Milliers de tonnes</td>\n",
       "      <td>1173.0</td>\n",
       "      <td>S</td>\n",
       "      <td>Données standardisées</td>\n",
       "    </tr>\n",
       "    <tr>\n",
       "      <th>2</th>\n",
       "      <td>FBS</td>\n",
       "      <td>Bilans Alimentaires</td>\n",
       "      <td>2</td>\n",
       "      <td>Afghanistan</td>\n",
       "      <td>5072</td>\n",
       "      <td>Variation de stock</td>\n",
       "      <td>2511</td>\n",
       "      <td>Blé</td>\n",
       "      <td>2013</td>\n",
       "      <td>2013</td>\n",
       "      <td>Milliers de tonnes</td>\n",
       "      <td>-350.0</td>\n",
       "      <td>S</td>\n",
       "      <td>Données standardisées</td>\n",
       "    </tr>\n",
       "    <tr>\n",
       "      <th>3</th>\n",
       "      <td>FBS</td>\n",
       "      <td>Bilans Alimentaires</td>\n",
       "      <td>2</td>\n",
       "      <td>Afghanistan</td>\n",
       "      <td>5301</td>\n",
       "      <td>Disponibilité intérieure</td>\n",
       "      <td>2511</td>\n",
       "      <td>Blé</td>\n",
       "      <td>2013</td>\n",
       "      <td>2013</td>\n",
       "      <td>Milliers de tonnes</td>\n",
       "      <td>5992.0</td>\n",
       "      <td>S</td>\n",
       "      <td>Données standardisées</td>\n",
       "    </tr>\n",
       "    <tr>\n",
       "      <th>4</th>\n",
       "      <td>FBS</td>\n",
       "      <td>Bilans Alimentaires</td>\n",
       "      <td>2</td>\n",
       "      <td>Afghanistan</td>\n",
       "      <td>5527</td>\n",
       "      <td>Semences</td>\n",
       "      <td>2511</td>\n",
       "      <td>Blé</td>\n",
       "      <td>2013</td>\n",
       "      <td>2013</td>\n",
       "      <td>Milliers de tonnes</td>\n",
       "      <td>322.0</td>\n",
       "      <td>S</td>\n",
       "      <td>Données standardisées</td>\n",
       "    </tr>\n",
       "  </tbody>\n",
       "</table>\n",
       "</div>"
      ],
      "text/plain": [
       "  Code Domaine              Domaine  Code Pays         Pays  Code Élément  \\\n",
       "0          FBS  Bilans Alimentaires          2  Afghanistan          5511   \n",
       "1          FBS  Bilans Alimentaires          2  Afghanistan          5611   \n",
       "2          FBS  Bilans Alimentaires          2  Afghanistan          5072   \n",
       "3          FBS  Bilans Alimentaires          2  Afghanistan          5301   \n",
       "4          FBS  Bilans Alimentaires          2  Afghanistan          5527   \n",
       "\n",
       "                    Élément  Code Produit Produit  Code Année  Année  \\\n",
       "0                Production          2511     Blé        2013   2013   \n",
       "1   Importations - Quantité          2511     Blé        2013   2013   \n",
       "2        Variation de stock          2511     Blé        2013   2013   \n",
       "3  Disponibilité intérieure          2511     Blé        2013   2013   \n",
       "4                  Semences          2511     Blé        2013   2013   \n",
       "\n",
       "                Unité  Valeur Symbole Description du Symbole  \n",
       "0  Milliers de tonnes  5169.0       S  Données standardisées  \n",
       "1  Milliers de tonnes  1173.0       S  Données standardisées  \n",
       "2  Milliers de tonnes  -350.0       S  Données standardisées  \n",
       "3  Milliers de tonnes  5992.0       S  Données standardisées  \n",
       "4  Milliers de tonnes   322.0       S  Données standardisées  "
      ]
     },
     "execution_count": 102,
     "metadata": {},
     "output_type": "execute_result"
    }
   ],
   "source": [
    "cereal.head()"
   ]
  },
  {
   "cell_type": "code",
   "execution_count": 103,
   "metadata": {},
   "outputs": [
    {
     "data": {
      "text/plain": [
       "array(['Chine - RAS de Hong-Kong', 'Chine - RAS de Macao',\n",
       "       'Chine, continentale', 'Chine, Taiwan Province de'], dtype=object)"
      ]
     },
     "execution_count": 103,
     "metadata": {},
     "output_type": "execute_result"
    }
   ],
   "source": [
    "# Nettoyage de la redondance de la Chine\n",
    "cereal = cereal[cereal.Pays != 'Chine']\n",
    "\n",
    "# Affichage des pays composants la Chine\n",
    "cereal[cereal.Pays.str.contains('Chine')]['Pays'].unique()"
   ]
  },
  {
   "cell_type": "code",
   "execution_count": 104,
   "metadata": {
    "scrolled": false
   },
   "outputs": [
    {
     "data": {
      "text/html": [
       "<div>\n",
       "<style scoped>\n",
       "    .dataframe tbody tr th:only-of-type {\n",
       "        vertical-align: middle;\n",
       "    }\n",
       "\n",
       "    .dataframe tbody tr th {\n",
       "        vertical-align: top;\n",
       "    }\n",
       "\n",
       "    .dataframe thead th {\n",
       "        text-align: right;\n",
       "    }\n",
       "</style>\n",
       "<table border=\"1\" class=\"dataframe\">\n",
       "  <thead>\n",
       "    <tr style=\"text-align: right;\">\n",
       "      <th></th>\n",
       "      <th>Code Domaine</th>\n",
       "      <th>Domaine</th>\n",
       "      <th>Code Pays</th>\n",
       "      <th>Pays</th>\n",
       "      <th>Code Élément</th>\n",
       "      <th>Élément</th>\n",
       "      <th>Code Produit</th>\n",
       "      <th>Produit</th>\n",
       "      <th>Code Année</th>\n",
       "      <th>Année</th>\n",
       "      <th>Unité</th>\n",
       "      <th>Valeur</th>\n",
       "      <th>Symbole</th>\n",
       "      <th>Description du Symbole</th>\n",
       "    </tr>\n",
       "  </thead>\n",
       "  <tbody>\n",
       "    <tr>\n",
       "      <th>0</th>\n",
       "      <td>FBS</td>\n",
       "      <td>Bilans Alimentaires</td>\n",
       "      <td>2</td>\n",
       "      <td>Afghanistan</td>\n",
       "      <td>5511</td>\n",
       "      <td>Production</td>\n",
       "      <td>2511</td>\n",
       "      <td>Blé</td>\n",
       "      <td>2013</td>\n",
       "      <td>2013</td>\n",
       "      <td>Milliers de tonnes</td>\n",
       "      <td>5169.0</td>\n",
       "      <td>S</td>\n",
       "      <td>Données standardisées</td>\n",
       "    </tr>\n",
       "    <tr>\n",
       "      <th>1</th>\n",
       "      <td>FBS</td>\n",
       "      <td>Bilans Alimentaires</td>\n",
       "      <td>2</td>\n",
       "      <td>Afghanistan</td>\n",
       "      <td>5611</td>\n",
       "      <td>Importations - Quantité</td>\n",
       "      <td>2511</td>\n",
       "      <td>Blé</td>\n",
       "      <td>2013</td>\n",
       "      <td>2013</td>\n",
       "      <td>Milliers de tonnes</td>\n",
       "      <td>1173.0</td>\n",
       "      <td>S</td>\n",
       "      <td>Données standardisées</td>\n",
       "    </tr>\n",
       "  </tbody>\n",
       "</table>\n",
       "</div>"
      ],
      "text/plain": [
       "  Code Domaine              Domaine  Code Pays         Pays  Code Élément  \\\n",
       "0          FBS  Bilans Alimentaires          2  Afghanistan          5511   \n",
       "1          FBS  Bilans Alimentaires          2  Afghanistan          5611   \n",
       "\n",
       "                   Élément  Code Produit Produit  Code Année  Année  \\\n",
       "0               Production          2511     Blé        2013   2013   \n",
       "1  Importations - Quantité          2511     Blé        2013   2013   \n",
       "\n",
       "                Unité  Valeur Symbole Description du Symbole  \n",
       "0  Milliers de tonnes  5169.0       S  Données standardisées  \n",
       "1  Milliers de tonnes  1173.0       S  Données standardisées  "
      ]
     },
     "execution_count": 104,
     "metadata": {},
     "output_type": "execute_result"
    }
   ],
   "source": [
    "cereal.head(2)"
   ]
  },
  {
   "cell_type": "markdown",
   "metadata": {},
   "source": [
    "[Retour au sommaire](#sommaire)"
   ]
  },
  {
   "cell_type": "markdown",
   "metadata": {},
   "source": [
    "***\n",
    "## <font color=blue>6. Transformation des données</font><a id='1.6'></a>\n",
    "***"
   ]
  },
  {
   "cell_type": "code",
   "execution_count": 105,
   "metadata": {
    "scrolled": false
   },
   "outputs": [
    {
     "data": {
      "text/html": [
       "<div>\n",
       "<style scoped>\n",
       "    .dataframe tbody tr th:only-of-type {\n",
       "        vertical-align: middle;\n",
       "    }\n",
       "\n",
       "    .dataframe tbody tr th {\n",
       "        vertical-align: top;\n",
       "    }\n",
       "\n",
       "    .dataframe thead tr th {\n",
       "        text-align: left;\n",
       "    }\n",
       "\n",
       "    .dataframe thead tr:last-of-type th {\n",
       "        text-align: right;\n",
       "    }\n",
       "</style>\n",
       "<table border=\"1\" class=\"dataframe\">\n",
       "  <thead>\n",
       "    <tr>\n",
       "      <th></th>\n",
       "      <th></th>\n",
       "      <th></th>\n",
       "      <th></th>\n",
       "      <th></th>\n",
       "      <th></th>\n",
       "      <th colspan=\"15\" halign=\"left\">valeur</th>\n",
       "    </tr>\n",
       "    <tr>\n",
       "      <th></th>\n",
       "      <th></th>\n",
       "      <th></th>\n",
       "      <th></th>\n",
       "      <th></th>\n",
       "      <th>element</th>\n",
       "      <th>Aliments pour animaux</th>\n",
       "      <th>Autres Utilisations</th>\n",
       "      <th>Disponibilité alimentaire (Kcal/personne/jour)</th>\n",
       "      <th>Disponibilité alimentaire en quantité (kg/personne/an)</th>\n",
       "      <th>Disponibilité de matière grasse en quantité (g/personne/jour)</th>\n",
       "      <th>Disponibilité de protéines en quantité (g/personne/jour)</th>\n",
       "      <th>Disponibilité intérieure</th>\n",
       "      <th>Exportations - Quantité</th>\n",
       "      <th>Importations - Quantité</th>\n",
       "      <th>Nourriture</th>\n",
       "      <th>Pertes</th>\n",
       "      <th>Production</th>\n",
       "      <th>Semences</th>\n",
       "      <th>Traitement</th>\n",
       "      <th>Variation de stock</th>\n",
       "    </tr>\n",
       "    <tr>\n",
       "      <th>codePays</th>\n",
       "      <th>pays</th>\n",
       "      <th>codeProduit</th>\n",
       "      <th>produit</th>\n",
       "      <th>annee</th>\n",
       "      <th>groupe</th>\n",
       "      <th></th>\n",
       "      <th></th>\n",
       "      <th></th>\n",
       "      <th></th>\n",
       "      <th></th>\n",
       "      <th></th>\n",
       "      <th></th>\n",
       "      <th></th>\n",
       "      <th></th>\n",
       "      <th></th>\n",
       "      <th></th>\n",
       "      <th></th>\n",
       "      <th></th>\n",
       "      <th></th>\n",
       "      <th></th>\n",
       "    </tr>\n",
       "  </thead>\n",
       "  <tbody>\n",
       "    <tr>\n",
       "      <th rowspan=\"2\" valign=\"top\">1</th>\n",
       "      <th rowspan=\"2\" valign=\"top\">Arménie</th>\n",
       "      <th>2511</th>\n",
       "      <th>Blé</th>\n",
       "      <th>2013</th>\n",
       "      <th>vegetal</th>\n",
       "      <td>93.0</td>\n",
       "      <td>NaN</td>\n",
       "      <td>1024.0</td>\n",
       "      <td>130.6</td>\n",
       "      <td>3.6</td>\n",
       "      <td>30.52</td>\n",
       "      <td>554.0</td>\n",
       "      <td>1.0</td>\n",
       "      <td>361.0</td>\n",
       "      <td>389.0</td>\n",
       "      <td>32.0</td>\n",
       "      <td>312.0</td>\n",
       "      <td>30.0</td>\n",
       "      <td>10.0</td>\n",
       "      <td>-118.0</td>\n",
       "    </tr>\n",
       "    <tr>\n",
       "      <th>2513</th>\n",
       "      <th>Orge</th>\n",
       "      <th>2013</th>\n",
       "      <th>vegetal</th>\n",
       "      <td>137.0</td>\n",
       "      <td>26.0</td>\n",
       "      <td>NaN</td>\n",
       "      <td>NaN</td>\n",
       "      <td>NaN</td>\n",
       "      <td>NaN</td>\n",
       "      <td>198.0</td>\n",
       "      <td>NaN</td>\n",
       "      <td>9.0</td>\n",
       "      <td>NaN</td>\n",
       "      <td>15.0</td>\n",
       "      <td>189.0</td>\n",
       "      <td>14.0</td>\n",
       "      <td>7.0</td>\n",
       "      <td>NaN</td>\n",
       "    </tr>\n",
       "  </tbody>\n",
       "</table>\n",
       "</div>"
      ],
      "text/plain": [
       "                                                                  valeur  \\\n",
       "element                                            Aliments pour animaux   \n",
       "codePays pays    codeProduit produit annee groupe                          \n",
       "1        Arménie 2511        Blé     2013  vegetal                  93.0   \n",
       "                 2513        Orge    2013  vegetal                 137.0   \n",
       "\n",
       "                                                                        \\\n",
       "element                                            Autres Utilisations   \n",
       "codePays pays    codeProduit produit annee groupe                        \n",
       "1        Arménie 2511        Blé     2013  vegetal                 NaN   \n",
       "                 2513        Orge    2013  vegetal                26.0   \n",
       "\n",
       "                                                                                                   \\\n",
       "element                                            Disponibilité alimentaire (Kcal/personne/jour)   \n",
       "codePays pays    codeProduit produit annee groupe                                                   \n",
       "1        Arménie 2511        Blé     2013  vegetal                                         1024.0   \n",
       "                 2513        Orge    2013  vegetal                                            NaN   \n",
       "\n",
       "                                                                                                           \\\n",
       "element                                            Disponibilité alimentaire en quantité (kg/personne/an)   \n",
       "codePays pays    codeProduit produit annee groupe                                                           \n",
       "1        Arménie 2511        Blé     2013  vegetal                                              130.6       \n",
       "                 2513        Orge    2013  vegetal                                                NaN       \n",
       "\n",
       "                                                                                                                  \\\n",
       "element                                            Disponibilité de matière grasse en quantité (g/personne/jour)   \n",
       "codePays pays    codeProduit produit annee groupe                                                                  \n",
       "1        Arménie 2511        Blé     2013  vegetal                                                3.6              \n",
       "                 2513        Orge    2013  vegetal                                                NaN              \n",
       "\n",
       "                                                                                                             \\\n",
       "element                                            Disponibilité de protéines en quantité (g/personne/jour)   \n",
       "codePays pays    codeProduit produit annee groupe                                                             \n",
       "1        Arménie 2511        Blé     2013  vegetal                                              30.52         \n",
       "                 2513        Orge    2013  vegetal                                                NaN         \n",
       "\n",
       "                                                                             \\\n",
       "element                                            Disponibilité intérieure   \n",
       "codePays pays    codeProduit produit annee groupe                             \n",
       "1        Arménie 2511        Blé     2013  vegetal                    554.0   \n",
       "                 2513        Orge    2013  vegetal                    198.0   \n",
       "\n",
       "                                                                            \\\n",
       "element                                            Exportations - Quantité   \n",
       "codePays pays    codeProduit produit annee groupe                            \n",
       "1        Arménie 2511        Blé     2013  vegetal                     1.0   \n",
       "                 2513        Orge    2013  vegetal                     NaN   \n",
       "\n",
       "                                                                            \\\n",
       "element                                            Importations - Quantité   \n",
       "codePays pays    codeProduit produit annee groupe                            \n",
       "1        Arménie 2511        Blé     2013  vegetal                   361.0   \n",
       "                 2513        Orge    2013  vegetal                     9.0   \n",
       "\n",
       "                                                                      \\\n",
       "element                                            Nourriture Pertes   \n",
       "codePays pays    codeProduit produit annee groupe                      \n",
       "1        Arménie 2511        Blé     2013  vegetal      389.0   32.0   \n",
       "                 2513        Orge    2013  vegetal        NaN   15.0   \n",
       "\n",
       "                                                                        \\\n",
       "element                                            Production Semences   \n",
       "codePays pays    codeProduit produit annee groupe                        \n",
       "1        Arménie 2511        Blé     2013  vegetal      312.0     30.0   \n",
       "                 2513        Orge    2013  vegetal      189.0     14.0   \n",
       "\n",
       "                                                               \\\n",
       "element                                            Traitement   \n",
       "codePays pays    codeProduit produit annee groupe               \n",
       "1        Arménie 2511        Blé     2013  vegetal       10.0   \n",
       "                 2513        Orge    2013  vegetal        7.0   \n",
       "\n",
       "                                                                       \n",
       "element                                            Variation de stock  \n",
       "codePays pays    codeProduit produit annee groupe                      \n",
       "1        Arménie 2511        Blé     2013  vegetal             -118.0  \n",
       "                 2513        Orge    2013  vegetal                NaN  "
      ]
     },
     "execution_count": 105,
     "metadata": {},
     "output_type": "execute_result"
    }
   ],
   "source": [
    "# Transformation de data en table pivot\n",
    "df_bilan = ani_veg.pivot_table(index=[\"codePays\",\"pays\",\"codeProduit\",\"produit\",\"annee\",\"groupe\"], \n",
    "                           values=[\"valeur\"], aggfunc=sum, columns = \"element\")\n",
    "df_bilan.head(2)"
   ]
  },
  {
   "cell_type": "code",
   "execution_count": 106,
   "metadata": {},
   "outputs": [
    {
     "data": {
      "text/html": [
       "<div>\n",
       "<style scoped>\n",
       "    .dataframe tbody tr th:only-of-type {\n",
       "        vertical-align: middle;\n",
       "    }\n",
       "\n",
       "    .dataframe tbody tr th {\n",
       "        vertical-align: top;\n",
       "    }\n",
       "\n",
       "    .dataframe thead th {\n",
       "        text-align: right;\n",
       "    }\n",
       "</style>\n",
       "<table border=\"1\" class=\"dataframe\">\n",
       "  <thead>\n",
       "    <tr style=\"text-align: right;\">\n",
       "      <th></th>\n",
       "      <th>codePays</th>\n",
       "      <th>pays</th>\n",
       "      <th>codeProduit</th>\n",
       "      <th>produit</th>\n",
       "      <th>annee</th>\n",
       "      <th>groupe</th>\n",
       "      <th>Aliments pour animaux</th>\n",
       "      <th>Autres Utilisations</th>\n",
       "      <th>Disponibilité alimentaire (Kcal/personne/jour)</th>\n",
       "      <th>Disponibilité alimentaire en quantité (kg/personne/an)</th>\n",
       "      <th>...</th>\n",
       "      <th>Disponibilité de protéines en quantité (g/personne/jour)</th>\n",
       "      <th>Disponibilité intérieure</th>\n",
       "      <th>Exportations - Quantité</th>\n",
       "      <th>Importations - Quantité</th>\n",
       "      <th>Nourriture</th>\n",
       "      <th>Pertes</th>\n",
       "      <th>Production</th>\n",
       "      <th>Semences</th>\n",
       "      <th>Traitement</th>\n",
       "      <th>Variation de stock</th>\n",
       "    </tr>\n",
       "  </thead>\n",
       "  <tbody>\n",
       "    <tr>\n",
       "      <th>0</th>\n",
       "      <td>1</td>\n",
       "      <td>Arménie</td>\n",
       "      <td>2511</td>\n",
       "      <td>Blé</td>\n",
       "      <td>2013</td>\n",
       "      <td>vegetal</td>\n",
       "      <td>93.0</td>\n",
       "      <td>NaN</td>\n",
       "      <td>1024.0</td>\n",
       "      <td>130.6</td>\n",
       "      <td>...</td>\n",
       "      <td>30.52</td>\n",
       "      <td>554.0</td>\n",
       "      <td>1.0</td>\n",
       "      <td>361.0</td>\n",
       "      <td>389.0</td>\n",
       "      <td>32.0</td>\n",
       "      <td>312.0</td>\n",
       "      <td>30.0</td>\n",
       "      <td>10.0</td>\n",
       "      <td>-118.0</td>\n",
       "    </tr>\n",
       "    <tr>\n",
       "      <th>1</th>\n",
       "      <td>1</td>\n",
       "      <td>Arménie</td>\n",
       "      <td>2513</td>\n",
       "      <td>Orge</td>\n",
       "      <td>2013</td>\n",
       "      <td>vegetal</td>\n",
       "      <td>137.0</td>\n",
       "      <td>26.0</td>\n",
       "      <td>NaN</td>\n",
       "      <td>NaN</td>\n",
       "      <td>...</td>\n",
       "      <td>NaN</td>\n",
       "      <td>198.0</td>\n",
       "      <td>NaN</td>\n",
       "      <td>9.0</td>\n",
       "      <td>NaN</td>\n",
       "      <td>15.0</td>\n",
       "      <td>189.0</td>\n",
       "      <td>14.0</td>\n",
       "      <td>7.0</td>\n",
       "      <td>NaN</td>\n",
       "    </tr>\n",
       "  </tbody>\n",
       "</table>\n",
       "<p>2 rows × 21 columns</p>\n",
       "</div>"
      ],
      "text/plain": [
       "   codePays     pays  codeProduit produit  annee   groupe  \\\n",
       "0         1  Arménie         2511     Blé   2013  vegetal   \n",
       "1         1  Arménie         2513    Orge   2013  vegetal   \n",
       "\n",
       "   Aliments pour animaux  Autres Utilisations  \\\n",
       "0                   93.0                  NaN   \n",
       "1                  137.0                 26.0   \n",
       "\n",
       "   Disponibilité alimentaire (Kcal/personne/jour)  \\\n",
       "0                                          1024.0   \n",
       "1                                             NaN   \n",
       "\n",
       "   Disponibilité alimentaire en quantité (kg/personne/an)         ...          \\\n",
       "0                                              130.6              ...           \n",
       "1                                                NaN              ...           \n",
       "\n",
       "   Disponibilité de protéines en quantité (g/personne/jour)  \\\n",
       "0                                              30.52          \n",
       "1                                                NaN          \n",
       "\n",
       "   Disponibilité intérieure  Exportations - Quantité  Importations - Quantité  \\\n",
       "0                     554.0                      1.0                    361.0   \n",
       "1                     198.0                      NaN                      9.0   \n",
       "\n",
       "   Nourriture  Pertes  Production  Semences  Traitement  Variation de stock  \n",
       "0       389.0    32.0       312.0      30.0        10.0              -118.0  \n",
       "1         NaN    15.0       189.0      14.0         7.0                 NaN  \n",
       "\n",
       "[2 rows x 21 columns]"
      ]
     },
     "execution_count": 106,
     "metadata": {},
     "output_type": "execute_result"
    }
   ],
   "source": [
    "# Remettre les colonnes sur un niveau\n",
    "df_bilan.columns = ['Aliments pour animaux','Autres Utilisations',\n",
    "                    'Disponibilité alimentaire (Kcal/personne/jour)',\n",
    "                    'Disponibilité alimentaire en quantité (kg/personne/an)',\n",
    "                    'Disponibilité de matière grasse en quantité (g/personne/jour)',\n",
    "                    'Disponibilité de protéines en quantité (g/personne/jour)',\n",
    "                    'Disponibilité intérieure', \n",
    "                    'Exportations - Quantité',\n",
    "                    'Importations - Quantité',\n",
    "                    'Nourriture', 'Pertes', 'Production','Semences','Traitement','Variation de stock']\n",
    "\n",
    "# Réindexation du dataframe                  \n",
    "df_bilan = df_bilan.reset_index()\n",
    "df_bilan.head(2)"
   ]
  },
  {
   "cell_type": "markdown",
   "metadata": {},
   "source": [
    "> Jointure des dataframes population et df_bilan."
   ]
  },
  {
   "cell_type": "code",
   "execution_count": 107,
   "metadata": {},
   "outputs": [
    {
     "data": {
      "text/html": [
       "<div>\n",
       "<style scoped>\n",
       "    .dataframe tbody tr th:only-of-type {\n",
       "        vertical-align: middle;\n",
       "    }\n",
       "\n",
       "    .dataframe tbody tr th {\n",
       "        vertical-align: top;\n",
       "    }\n",
       "\n",
       "    .dataframe thead th {\n",
       "        text-align: right;\n",
       "    }\n",
       "</style>\n",
       "<table border=\"1\" class=\"dataframe\">\n",
       "  <thead>\n",
       "    <tr style=\"text-align: right;\">\n",
       "      <th></th>\n",
       "      <th>codePays</th>\n",
       "      <th>pays</th>\n",
       "      <th>annee</th>\n",
       "      <th>population</th>\n",
       "    </tr>\n",
       "  </thead>\n",
       "  <tbody>\n",
       "    <tr>\n",
       "      <th>0</th>\n",
       "      <td>2</td>\n",
       "      <td>Afghanistan</td>\n",
       "      <td>2013</td>\n",
       "      <td>30552000.0</td>\n",
       "    </tr>\n",
       "    <tr>\n",
       "      <th>1</th>\n",
       "      <td>202</td>\n",
       "      <td>Afrique du Sud</td>\n",
       "      <td>2013</td>\n",
       "      <td>52776000.0</td>\n",
       "    </tr>\n",
       "  </tbody>\n",
       "</table>\n",
       "</div>"
      ],
      "text/plain": [
       "   codePays            pays  annee  population\n",
       "0         2     Afghanistan   2013  30552000.0\n",
       "1       202  Afrique du Sud   2013  52776000.0"
      ]
     },
     "execution_count": 107,
     "metadata": {},
     "output_type": "execute_result"
    }
   ],
   "source": [
    "pop.head(2)"
   ]
  },
  {
   "cell_type": "code",
   "execution_count": 108,
   "metadata": {
    "scrolled": false
   },
   "outputs": [
    {
     "data": {
      "text/html": [
       "<div>\n",
       "<style scoped>\n",
       "    .dataframe tbody tr th:only-of-type {\n",
       "        vertical-align: middle;\n",
       "    }\n",
       "\n",
       "    .dataframe tbody tr th {\n",
       "        vertical-align: top;\n",
       "    }\n",
       "\n",
       "    .dataframe thead th {\n",
       "        text-align: right;\n",
       "    }\n",
       "</style>\n",
       "<table border=\"1\" class=\"dataframe\">\n",
       "  <thead>\n",
       "    <tr style=\"text-align: right;\">\n",
       "      <th></th>\n",
       "      <th>codePays</th>\n",
       "      <th>pays</th>\n",
       "      <th>codeProduit</th>\n",
       "      <th>produit</th>\n",
       "      <th>annee</th>\n",
       "      <th>groupe</th>\n",
       "      <th>Aliments pour animaux</th>\n",
       "      <th>Autres Utilisations</th>\n",
       "      <th>Disponibilité alimentaire (Kcal/personne/jour)</th>\n",
       "      <th>Disponibilité alimentaire en quantité (kg/personne/an)</th>\n",
       "      <th>...</th>\n",
       "      <th>Disponibilité intérieure</th>\n",
       "      <th>Exportations - Quantité</th>\n",
       "      <th>Importations - Quantité</th>\n",
       "      <th>Nourriture</th>\n",
       "      <th>Pertes</th>\n",
       "      <th>Production</th>\n",
       "      <th>Semences</th>\n",
       "      <th>Traitement</th>\n",
       "      <th>Variation de stock</th>\n",
       "      <th>population</th>\n",
       "    </tr>\n",
       "  </thead>\n",
       "  <tbody>\n",
       "    <tr>\n",
       "      <th>0</th>\n",
       "      <td>1</td>\n",
       "      <td>Arménie</td>\n",
       "      <td>2511</td>\n",
       "      <td>Blé</td>\n",
       "      <td>2013</td>\n",
       "      <td>vegetal</td>\n",
       "      <td>93.0</td>\n",
       "      <td>NaN</td>\n",
       "      <td>1024.0</td>\n",
       "      <td>130.6</td>\n",
       "      <td>...</td>\n",
       "      <td>554.0</td>\n",
       "      <td>1.0</td>\n",
       "      <td>361.0</td>\n",
       "      <td>389.0</td>\n",
       "      <td>32.0</td>\n",
       "      <td>312.0</td>\n",
       "      <td>30.0</td>\n",
       "      <td>10.0</td>\n",
       "      <td>-118.0</td>\n",
       "      <td>2977000.0</td>\n",
       "    </tr>\n",
       "    <tr>\n",
       "      <th>1</th>\n",
       "      <td>1</td>\n",
       "      <td>Arménie</td>\n",
       "      <td>2513</td>\n",
       "      <td>Orge</td>\n",
       "      <td>2013</td>\n",
       "      <td>vegetal</td>\n",
       "      <td>137.0</td>\n",
       "      <td>26.0</td>\n",
       "      <td>NaN</td>\n",
       "      <td>NaN</td>\n",
       "      <td>...</td>\n",
       "      <td>198.0</td>\n",
       "      <td>NaN</td>\n",
       "      <td>9.0</td>\n",
       "      <td>NaN</td>\n",
       "      <td>15.0</td>\n",
       "      <td>189.0</td>\n",
       "      <td>14.0</td>\n",
       "      <td>7.0</td>\n",
       "      <td>NaN</td>\n",
       "      <td>2977000.0</td>\n",
       "    </tr>\n",
       "  </tbody>\n",
       "</table>\n",
       "<p>2 rows × 22 columns</p>\n",
       "</div>"
      ],
      "text/plain": [
       "   codePays     pays  codeProduit produit  annee   groupe  \\\n",
       "0         1  Arménie         2511     Blé   2013  vegetal   \n",
       "1         1  Arménie         2513    Orge   2013  vegetal   \n",
       "\n",
       "   Aliments pour animaux  Autres Utilisations  \\\n",
       "0                   93.0                  NaN   \n",
       "1                  137.0                 26.0   \n",
       "\n",
       "   Disponibilité alimentaire (Kcal/personne/jour)  \\\n",
       "0                                          1024.0   \n",
       "1                                             NaN   \n",
       "\n",
       "   Disponibilité alimentaire en quantité (kg/personne/an)     ...      \\\n",
       "0                                              130.6          ...       \n",
       "1                                                NaN          ...       \n",
       "\n",
       "   Disponibilité intérieure  Exportations - Quantité  Importations - Quantité  \\\n",
       "0                     554.0                      1.0                    361.0   \n",
       "1                     198.0                      NaN                      9.0   \n",
       "\n",
       "   Nourriture  Pertes  Production  Semences  Traitement  Variation de stock  \\\n",
       "0       389.0    32.0       312.0      30.0        10.0              -118.0   \n",
       "1         NaN    15.0       189.0      14.0         7.0                 NaN   \n",
       "\n",
       "   population  \n",
       "0   2977000.0  \n",
       "1   2977000.0  \n",
       "\n",
       "[2 rows x 22 columns]"
      ]
     },
     "execution_count": 108,
     "metadata": {},
     "output_type": "execute_result"
    }
   ],
   "source": [
    "# Jointure naturelle des tables 'population' et df_bilan\n",
    "bilan_alim = pd.merge(df_bilan, pop)\n",
    "bilan_alim.head(2)"
   ]
  },
  {
   "cell_type": "code",
   "execution_count": 109,
   "metadata": {},
   "outputs": [
    {
     "data": {
      "text/html": [
       "<div>\n",
       "<style scoped>\n",
       "    .dataframe tbody tr th:only-of-type {\n",
       "        vertical-align: middle;\n",
       "    }\n",
       "\n",
       "    .dataframe tbody tr th {\n",
       "        vertical-align: top;\n",
       "    }\n",
       "\n",
       "    .dataframe thead th {\n",
       "        text-align: right;\n",
       "    }\n",
       "</style>\n",
       "<table border=\"1\" class=\"dataframe\">\n",
       "  <thead>\n",
       "    <tr style=\"text-align: right;\">\n",
       "      <th></th>\n",
       "      <th>codePays</th>\n",
       "      <th>pays</th>\n",
       "      <th>produit</th>\n",
       "      <th>annee</th>\n",
       "      <th>groupe</th>\n",
       "      <th>Disponibilité intérieure</th>\n",
       "      <th>Exportations - Quantité</th>\n",
       "      <th>Aliments pour animaux</th>\n",
       "      <th>Nourriture</th>\n",
       "      <th>Disponibilité alimentaire (Kcal/personne/jour)</th>\n",
       "      <th>Disponibilité alimentaire en quantité (kg/personne/an)</th>\n",
       "      <th>Importations - Quantité</th>\n",
       "      <th>Autres Utilisations</th>\n",
       "      <th>Traitement</th>\n",
       "      <th>Production</th>\n",
       "      <th>Disponibilité de protéines en quantité (g/personne/jour)</th>\n",
       "      <th>Semences</th>\n",
       "      <th>Variation de stock</th>\n",
       "      <th>Pertes</th>\n",
       "      <th>population</th>\n",
       "    </tr>\n",
       "  </thead>\n",
       "  <tbody>\n",
       "    <tr>\n",
       "      <th>0</th>\n",
       "      <td>1</td>\n",
       "      <td>Arménie</td>\n",
       "      <td>Blé</td>\n",
       "      <td>2013</td>\n",
       "      <td>vegetal</td>\n",
       "      <td>554.0</td>\n",
       "      <td>1.0</td>\n",
       "      <td>93.0</td>\n",
       "      <td>389.0</td>\n",
       "      <td>1024.0</td>\n",
       "      <td>130.6</td>\n",
       "      <td>361.0</td>\n",
       "      <td>NaN</td>\n",
       "      <td>10.0</td>\n",
       "      <td>312.0</td>\n",
       "      <td>30.52</td>\n",
       "      <td>30.0</td>\n",
       "      <td>-118.0</td>\n",
       "      <td>32.0</td>\n",
       "      <td>2977000.0</td>\n",
       "    </tr>\n",
       "    <tr>\n",
       "      <th>1</th>\n",
       "      <td>1</td>\n",
       "      <td>Arménie</td>\n",
       "      <td>Orge</td>\n",
       "      <td>2013</td>\n",
       "      <td>vegetal</td>\n",
       "      <td>198.0</td>\n",
       "      <td>NaN</td>\n",
       "      <td>137.0</td>\n",
       "      <td>NaN</td>\n",
       "      <td>NaN</td>\n",
       "      <td>NaN</td>\n",
       "      <td>9.0</td>\n",
       "      <td>26.0</td>\n",
       "      <td>7.0</td>\n",
       "      <td>189.0</td>\n",
       "      <td>NaN</td>\n",
       "      <td>14.0</td>\n",
       "      <td>NaN</td>\n",
       "      <td>15.0</td>\n",
       "      <td>2977000.0</td>\n",
       "    </tr>\n",
       "  </tbody>\n",
       "</table>\n",
       "</div>"
      ],
      "text/plain": [
       "   codePays     pays produit  annee   groupe  Disponibilité intérieure  \\\n",
       "0         1  Arménie     Blé   2013  vegetal                     554.0   \n",
       "1         1  Arménie    Orge   2013  vegetal                     198.0   \n",
       "\n",
       "   Exportations - Quantité  Aliments pour animaux  Nourriture  \\\n",
       "0                      1.0                   93.0       389.0   \n",
       "1                      NaN                  137.0         NaN   \n",
       "\n",
       "   Disponibilité alimentaire (Kcal/personne/jour)  \\\n",
       "0                                          1024.0   \n",
       "1                                             NaN   \n",
       "\n",
       "   Disponibilité alimentaire en quantité (kg/personne/an)  \\\n",
       "0                                              130.6        \n",
       "1                                                NaN        \n",
       "\n",
       "   Importations - Quantité  Autres Utilisations  Traitement  Production  \\\n",
       "0                    361.0                  NaN        10.0       312.0   \n",
       "1                      9.0                 26.0         7.0       189.0   \n",
       "\n",
       "   Disponibilité de protéines en quantité (g/personne/jour)  Semences  \\\n",
       "0                                              30.52             30.0   \n",
       "1                                                NaN             14.0   \n",
       "\n",
       "   Variation de stock  Pertes  population  \n",
       "0              -118.0    32.0   2977000.0  \n",
       "1                 NaN    15.0   2977000.0  "
      ]
     },
     "execution_count": 109,
     "metadata": {},
     "output_type": "execute_result"
    }
   ],
   "source": [
    "bilan_alim = bilan_alim[['codePays','pays','produit','annee', 'groupe',\n",
    "       'Disponibilité intérieure', 'Exportations - Quantité', 'Aliments pour animaux', 'Nourriture',\n",
    "       'Disponibilité alimentaire (Kcal/personne/jour)', 'Disponibilité alimentaire en quantité (kg/personne/an)',\n",
    "       'Importations - Quantité', 'Autres Utilisations', 'Traitement', 'Production',\n",
    "       'Disponibilité de protéines en quantité (g/personne/jour)', 'Semences', 'Variation de stock',\n",
    "       'Pertes', 'population']]\n",
    "\n",
    "bilan_alim.head(2)"
   ]
  },
  {
   "cell_type": "markdown",
   "metadata": {},
   "source": [
    "> Jointure des dataframes population et sous_nutrition."
   ]
  },
  {
   "cell_type": "code",
   "execution_count": 110,
   "metadata": {},
   "outputs": [
    {
     "data": {
      "text/html": [
       "<div>\n",
       "<style scoped>\n",
       "    .dataframe tbody tr th:only-of-type {\n",
       "        vertical-align: middle;\n",
       "    }\n",
       "\n",
       "    .dataframe tbody tr th {\n",
       "        vertical-align: top;\n",
       "    }\n",
       "\n",
       "    .dataframe thead th {\n",
       "        text-align: right;\n",
       "    }\n",
       "</style>\n",
       "<table border=\"1\" class=\"dataframe\">\n",
       "  <thead>\n",
       "    <tr style=\"text-align: right;\">\n",
       "      <th></th>\n",
       "      <th>codePays</th>\n",
       "      <th>pays</th>\n",
       "      <th>annee</th>\n",
       "      <th>population</th>\n",
       "      <th>nb_pers_sousalim</th>\n",
       "    </tr>\n",
       "  </thead>\n",
       "  <tbody>\n",
       "    <tr>\n",
       "      <th>0</th>\n",
       "      <td>2</td>\n",
       "      <td>Afghanistan</td>\n",
       "      <td>2013</td>\n",
       "      <td>30552000.0</td>\n",
       "      <td>7200000.0</td>\n",
       "    </tr>\n",
       "    <tr>\n",
       "      <th>1</th>\n",
       "      <td>202</td>\n",
       "      <td>Afrique du Sud</td>\n",
       "      <td>2013</td>\n",
       "      <td>52776000.0</td>\n",
       "      <td>2000000.0</td>\n",
       "    </tr>\n",
       "  </tbody>\n",
       "</table>\n",
       "</div>"
      ],
      "text/plain": [
       "   codePays            pays  annee  population  nb_pers_sousalim\n",
       "0         2     Afghanistan   2013  30552000.0         7200000.0\n",
       "1       202  Afrique du Sud   2013  52776000.0         2000000.0"
      ]
     },
     "execution_count": 110,
     "metadata": {},
     "output_type": "execute_result"
    }
   ],
   "source": [
    "# Jointure externe des dataframes population et sous_nutrition.\n",
    "# countries_data = pd.merge(pop, sous_alim, on=[\"codePays\",\"annee\"], how=\"left\")\n",
    "sous_nutrition = pd.merge(pop, sous_alim)\n",
    "sous_nutrition = sous_nutrition[['codePays', 'pays', 'annee', 'population', 'nb_pers_sousalim' ]]\n",
    "sous_nutrition.head(2)"
   ]
  },
  {
   "cell_type": "markdown",
   "metadata": {},
   "source": [
    "[Retour au sommaire](#sommaire)"
   ]
  },
  {
   "cell_type": "markdown",
   "metadata": {},
   "source": [
    "***\n",
    "## <font color=blue>7. Identifiez les possibles Clés Primaires</font><a id='1.7'></a>\n",
    "***"
   ]
  },
  {
   "cell_type": "code",
   "execution_count": 111,
   "metadata": {},
   "outputs": [
    {
     "name": "stdout",
     "output_type": "stream",
     "text": [
      "Les colonnes ['codePays', 'annee', 'element', 'produit'] peuvent être clef primaire pour le dataframe.\n",
      "Les colonnes ['codePays', 'annee', 'element', 'produit'] peuvent être clef primaire pour le dataframe.\n",
      "Les colonnes ['codePays', 'annee'] peuvent être clef primaire pour le dataframe.\n",
      "Les colonnes ['codePays', 'annee'] peuvent être clef primaire pour le dataframe.\n"
     ]
    }
   ],
   "source": [
    "# Tester des clés primaires permet de mieux comprendre la structure du dataset, et est utile en cas de jointures\n",
    "def verif_clef_primaire(df, columns_pk):\n",
    "    if len(df) != len(df[columns_pk].drop_duplicates()):\n",
    "        raise Exception(\"{} ne peux pas être clef primaire!\".format(columns_pk))  \n",
    "    print(\"Les colonnes {} peuvent être clef primaire pour le dataframe.\".format(columns_pk))\n",
    "\n",
    "verif_clef_primaire(veg,[\"codePays\",\"annee\",\"element\",\"produit\"])\n",
    "verif_clef_primaire(ani,[\"codePays\",\"annee\",\"element\",\"produit\"])\n",
    "verif_clef_primaire(sous_alim,[\"codePays\",\"annee\"])\n",
    "verif_clef_primaire(pop,[\"codePays\",\"annee\"])"
   ]
  },
  {
   "cell_type": "markdown",
   "metadata": {},
   "source": [
    "[Retour au sommaire](#sommaire)"
   ]
  },
  {
   "cell_type": "markdown",
   "metadata": {},
   "source": [
    "***\n",
    "# <font color=orange> Partie 2 - Identifier les grandes tendances </font><a id='partie2'></a>\n",
    "---"
   ]
  },
  {
   "cell_type": "markdown",
   "metadata": {},
   "source": [
    "## <font color=blue>1.\tCalculez le nombre total d’humains sur la planète</font><a id='2.1'></a>"
   ]
  },
  {
   "cell_type": "markdown",
   "metadata": {},
   "source": [
    "Pour calculer le nombre total d'humains sur la planète, il suffit d'effectuer la somme de la colonne 'population' du dataframe 'pop'"
   ]
  },
  {
   "cell_type": "code",
   "execution_count": 112,
   "metadata": {},
   "outputs": [
    {
     "name": "stdout",
     "output_type": "stream",
     "text": [
      "Population mondiale en 2013 : 6,997,326,000.0 humains\n"
     ]
    }
   ],
   "source": [
    "annee = 2013\n",
    "\n",
    "nb_humains_total = pop[pop.annee == annee].population.sum()\n",
    "print(\"Population mondiale en {} : {:,} humains\".format(annee, nb_humains_total))"
   ]
  },
  {
   "cell_type": "markdown",
   "metadata": {},
   "source": [
    "[Retour au sommaire](#sommaire)"
   ]
  },
  {
   "cell_type": "markdown",
   "metadata": {},
   "source": [
    "***\n",
    "## <font color=blue>2. Identifiez les redondances</font><a id='2.2'></a>\n",
    "***"
   ]
  },
  {
   "cell_type": "markdown",
   "metadata": {},
   "source": [
    "---\n",
    "**Après une recherche sur le site de la FAO :**\n",
    "\n",
    "Définitions et Standards - Bilans Alimentaires\n",
    "Code élément : 5301\t\n",
    "Elément : Disponibilité intérieure\t\n",
    "Unité : Milliers de tonnes\t\n",
    "Description : Production + importations - exportations + évolution des stocks (augmentation ou diminution) = disponibilités servant à une utilisation intérieure.\n",
    "Source: Division de la statistique (FAO)\n",
    "***"
   ]
  },
  {
   "cell_type": "code",
   "execution_count": 113,
   "metadata": {
    "scrolled": false
   },
   "outputs": [
    {
     "data": {
      "text/html": [
       "<div>\n",
       "<style scoped>\n",
       "    .dataframe tbody tr th:only-of-type {\n",
       "        vertical-align: middle;\n",
       "    }\n",
       "\n",
       "    .dataframe tbody tr th {\n",
       "        vertical-align: top;\n",
       "    }\n",
       "\n",
       "    .dataframe thead th {\n",
       "        text-align: right;\n",
       "    }\n",
       "</style>\n",
       "<table border=\"1\" class=\"dataframe\">\n",
       "  <thead>\n",
       "    <tr style=\"text-align: right;\">\n",
       "      <th></th>\n",
       "      <th>codePays</th>\n",
       "      <th>pays</th>\n",
       "      <th>produit</th>\n",
       "      <th>annee</th>\n",
       "      <th>groupe</th>\n",
       "      <th>Disponibilité intérieure</th>\n",
       "      <th>Exportations - Quantité</th>\n",
       "      <th>Aliments pour animaux</th>\n",
       "      <th>Nourriture</th>\n",
       "      <th>Disponibilité alimentaire (Kcal/personne/jour)</th>\n",
       "      <th>Disponibilité alimentaire en quantité (kg/personne/an)</th>\n",
       "      <th>Importations - Quantité</th>\n",
       "      <th>Autres Utilisations</th>\n",
       "      <th>Traitement</th>\n",
       "      <th>Production</th>\n",
       "      <th>Disponibilité de protéines en quantité (g/personne/jour)</th>\n",
       "      <th>Semences</th>\n",
       "      <th>Variation de stock</th>\n",
       "      <th>Pertes</th>\n",
       "      <th>population</th>\n",
       "    </tr>\n",
       "  </thead>\n",
       "  <tbody>\n",
       "    <tr>\n",
       "      <th>3571</th>\n",
       "      <td>68</td>\n",
       "      <td>France</td>\n",
       "      <td>Blé</td>\n",
       "      <td>2013</td>\n",
       "      <td>vegetal</td>\n",
       "      <td>20298.0</td>\n",
       "      <td>21502.0</td>\n",
       "      <td>7822.0</td>\n",
       "      <td>6971.0</td>\n",
       "      <td>811.0</td>\n",
       "      <td>108.43</td>\n",
       "      <td>2055.0</td>\n",
       "      <td>2824.0</td>\n",
       "      <td>1575.0</td>\n",
       "      <td>38614.0</td>\n",
       "      <td>25.99</td>\n",
       "      <td>748.0</td>\n",
       "      <td>1131.0</td>\n",
       "      <td>358.0</td>\n",
       "      <td>64291000.0</td>\n",
       "    </tr>\n",
       "  </tbody>\n",
       "</table>\n",
       "</div>"
      ],
      "text/plain": [
       "      codePays    pays produit  annee   groupe  Disponibilité intérieure  \\\n",
       "3571        68  France     Blé   2013  vegetal                   20298.0   \n",
       "\n",
       "      Exportations - Quantité  Aliments pour animaux  Nourriture  \\\n",
       "3571                  21502.0                 7822.0      6971.0   \n",
       "\n",
       "      Disponibilité alimentaire (Kcal/personne/jour)  \\\n",
       "3571                                           811.0   \n",
       "\n",
       "      Disponibilité alimentaire en quantité (kg/personne/an)  \\\n",
       "3571                                             108.43        \n",
       "\n",
       "      Importations - Quantité  Autres Utilisations  Traitement  Production  \\\n",
       "3571                   2055.0               2824.0      1575.0     38614.0   \n",
       "\n",
       "      Disponibilité de protéines en quantité (g/personne/jour)  Semences  \\\n",
       "3571                                              25.99            748.0   \n",
       "\n",
       "      Variation de stock  Pertes  population  \n",
       "3571              1131.0   358.0  64291000.0  "
      ]
     },
     "execution_count": 113,
     "metadata": {},
     "output_type": "execute_result"
    }
   ],
   "source": [
    "df_france_ble = bilan_alim.loc[(bilan_alim.pays == 'France') & (bilan_alim.produit == 'Blé')]\n",
    "df_france_ble"
   ]
  },
  {
   "cell_type": "markdown",
   "metadata": {},
   "source": [
    ">**Vérification pour la France :**\n",
    ">\n",
    ">Disponibilité intérieure comme Ressources = Production + importations + évolution des stocks - exportations\n",
    ">\n",
    ">Disponibilité intérieure comme Emplois = Aliments pour animaux + Semences + Pertes + Traitement + Autres utilisations + Nourriture"
   ]
  },
  {
   "cell_type": "code",
   "execution_count": 114,
   "metadata": {
    "scrolled": true
   },
   "outputs": [
    {
     "name": "stdout",
     "output_type": "stream",
     "text": [
      "La disponibilité intérieure calculée par la FAO est de 20,298 milliers de tonnes\n",
      "En ressources, notre calcul estime que la disponibilité intérieure pour la France est de 20,298 milliers de tonnes\n",
      "En emplois, notre calcul estime que la disponibilité intérieure pour la France est de 20,298 milliers de tonnes\n"
     ]
    }
   ],
   "source": [
    "print(\"La disponibilité intérieure calculée par la FAO est de {:,} milliers de tonnes\".format(20298))\n",
    "print(\"En ressources, notre calcul estime que la disponibilité intérieure pour la France est de {:,} milliers de tonnes\".format(38614 + 2055 + 1131 - 21502))\n",
    "print(\"En emplois, notre calcul estime que la disponibilité intérieure pour la France est de {:,} milliers de tonnes\".format(7822 + 748 + 358 + 1575 + 2824 + 6971))"
   ]
  },
  {
   "cell_type": "code",
   "execution_count": 115,
   "metadata": {},
   "outputs": [
    {
     "ename": "KeyError",
     "evalue": "'Valeur'",
     "output_type": "error",
     "traceback": [
      "\u001b[0;31m---------------------------------------------------------------------------\u001b[0m",
      "\u001b[0;31mKeyError\u001b[0m                                  Traceback (most recent call last)",
      "\u001b[0;32m~/anaconda3/lib/python3.6/site-packages/pandas/core/indexes/base.py\u001b[0m in \u001b[0;36mget_loc\u001b[0;34m(self, key, method, tolerance)\u001b[0m\n\u001b[1;32m   3077\u001b[0m             \u001b[0;32mtry\u001b[0m\u001b[0;34m:\u001b[0m\u001b[0;34m\u001b[0m\u001b[0m\n\u001b[0;32m-> 3078\u001b[0;31m                 \u001b[0;32mreturn\u001b[0m \u001b[0mself\u001b[0m\u001b[0;34m.\u001b[0m\u001b[0m_engine\u001b[0m\u001b[0;34m.\u001b[0m\u001b[0mget_loc\u001b[0m\u001b[0;34m(\u001b[0m\u001b[0mkey\u001b[0m\u001b[0;34m)\u001b[0m\u001b[0;34m\u001b[0m\u001b[0m\n\u001b[0m\u001b[1;32m   3079\u001b[0m             \u001b[0;32mexcept\u001b[0m \u001b[0mKeyError\u001b[0m\u001b[0;34m:\u001b[0m\u001b[0;34m\u001b[0m\u001b[0m\n",
      "\u001b[0;32mpandas/_libs/index.pyx\u001b[0m in \u001b[0;36mpandas._libs.index.IndexEngine.get_loc\u001b[0;34m()\u001b[0m\n",
      "\u001b[0;32mpandas/_libs/index.pyx\u001b[0m in \u001b[0;36mpandas._libs.index.IndexEngine.get_loc\u001b[0;34m()\u001b[0m\n",
      "\u001b[0;32mpandas/_libs/hashtable_class_helper.pxi\u001b[0m in \u001b[0;36mpandas._libs.hashtable.PyObjectHashTable.get_item\u001b[0;34m()\u001b[0m\n",
      "\u001b[0;32mpandas/_libs/hashtable_class_helper.pxi\u001b[0m in \u001b[0;36mpandas._libs.hashtable.PyObjectHashTable.get_item\u001b[0;34m()\u001b[0m\n",
      "\u001b[0;31mKeyError\u001b[0m: 'Valeur'",
      "\nDuring handling of the above exception, another exception occurred:\n",
      "\u001b[0;31mKeyError\u001b[0m                                  Traceback (most recent call last)",
      "\u001b[0;32m<ipython-input-115-8a35f9fab9d7>\u001b[0m in \u001b[0;36m<module>\u001b[0;34m()\u001b[0m\n\u001b[1;32m      6\u001b[0m \u001b[0mvaleur\u001b[0m \u001b[0;34m=\u001b[0m \u001b[0;32mlambda\u001b[0m \u001b[0melement\u001b[0m\u001b[0;34m:\u001b[0m \u001b[0mvege_fr_ble_df\u001b[0m\u001b[0;34m[\u001b[0m\u001b[0;34m'Valeur'\u001b[0m\u001b[0;34m]\u001b[0m\u001b[0;34m[\u001b[0m\u001b[0mvege_fr_ble_df\u001b[0m\u001b[0;34m[\u001b[0m\u001b[0;34m'Élément'\u001b[0m\u001b[0;34m]\u001b[0m \u001b[0;34m==\u001b[0m \u001b[0melement\u001b[0m\u001b[0;34m]\u001b[0m\u001b[0;34m.\u001b[0m\u001b[0mvalues\u001b[0m\u001b[0;34m[\u001b[0m\u001b[0;36m0\u001b[0m\u001b[0;34m]\u001b[0m\u001b[0;34m\u001b[0m\u001b[0m\n\u001b[1;32m      7\u001b[0m \u001b[0;34m\u001b[0m\u001b[0m\n\u001b[0;32m----> 8\u001b[0;31m \u001b[0mproduction\u001b[0m \u001b[0;34m=\u001b[0m               \u001b[0mvaleur\u001b[0m\u001b[0;34m(\u001b[0m\u001b[0;34m'Production'\u001b[0m\u001b[0;34m)\u001b[0m\u001b[0;34m\u001b[0m\u001b[0m\n\u001b[0m\u001b[1;32m      9\u001b[0m \u001b[0mimportations\u001b[0m \u001b[0;34m=\u001b[0m             \u001b[0mvaleur\u001b[0m\u001b[0;34m(\u001b[0m\u001b[0;34m'Importations - Quantité'\u001b[0m\u001b[0;34m)\u001b[0m\u001b[0;34m\u001b[0m\u001b[0m\n\u001b[1;32m     10\u001b[0m \u001b[0mexportations\u001b[0m \u001b[0;34m=\u001b[0m             \u001b[0mvaleur\u001b[0m\u001b[0;34m(\u001b[0m\u001b[0;34m'Exportations - Quantité'\u001b[0m\u001b[0;34m)\u001b[0m\u001b[0;34m\u001b[0m\u001b[0m\n",
      "\u001b[0;32m<ipython-input-115-8a35f9fab9d7>\u001b[0m in \u001b[0;36m<lambda>\u001b[0;34m(element)\u001b[0m\n\u001b[1;32m      4\u001b[0m \u001b[0;31m# on cherche les valeurs que l'on veut\u001b[0m\u001b[0;34m\u001b[0m\u001b[0;34m\u001b[0m\u001b[0m\n\u001b[1;32m      5\u001b[0m \u001b[0;34m\u001b[0m\u001b[0m\n\u001b[0;32m----> 6\u001b[0;31m \u001b[0mvaleur\u001b[0m \u001b[0;34m=\u001b[0m \u001b[0;32mlambda\u001b[0m \u001b[0melement\u001b[0m\u001b[0;34m:\u001b[0m \u001b[0mvege_fr_ble_df\u001b[0m\u001b[0;34m[\u001b[0m\u001b[0;34m'Valeur'\u001b[0m\u001b[0;34m]\u001b[0m\u001b[0;34m[\u001b[0m\u001b[0mvege_fr_ble_df\u001b[0m\u001b[0;34m[\u001b[0m\u001b[0;34m'Élément'\u001b[0m\u001b[0;34m]\u001b[0m \u001b[0;34m==\u001b[0m \u001b[0melement\u001b[0m\u001b[0;34m]\u001b[0m\u001b[0;34m.\u001b[0m\u001b[0mvalues\u001b[0m\u001b[0;34m[\u001b[0m\u001b[0;36m0\u001b[0m\u001b[0;34m]\u001b[0m\u001b[0;34m\u001b[0m\u001b[0m\n\u001b[0m\u001b[1;32m      7\u001b[0m \u001b[0;34m\u001b[0m\u001b[0m\n\u001b[1;32m      8\u001b[0m \u001b[0mproduction\u001b[0m \u001b[0;34m=\u001b[0m               \u001b[0mvaleur\u001b[0m\u001b[0;34m(\u001b[0m\u001b[0;34m'Production'\u001b[0m\u001b[0;34m)\u001b[0m\u001b[0;34m\u001b[0m\u001b[0m\n",
      "\u001b[0;32m~/anaconda3/lib/python3.6/site-packages/pandas/core/frame.py\u001b[0m in \u001b[0;36m__getitem__\u001b[0;34m(self, key)\u001b[0m\n\u001b[1;32m   2686\u001b[0m             \u001b[0;32mreturn\u001b[0m \u001b[0mself\u001b[0m\u001b[0;34m.\u001b[0m\u001b[0m_getitem_multilevel\u001b[0m\u001b[0;34m(\u001b[0m\u001b[0mkey\u001b[0m\u001b[0;34m)\u001b[0m\u001b[0;34m\u001b[0m\u001b[0m\n\u001b[1;32m   2687\u001b[0m         \u001b[0;32melse\u001b[0m\u001b[0;34m:\u001b[0m\u001b[0;34m\u001b[0m\u001b[0m\n\u001b[0;32m-> 2688\u001b[0;31m             \u001b[0;32mreturn\u001b[0m \u001b[0mself\u001b[0m\u001b[0;34m.\u001b[0m\u001b[0m_getitem_column\u001b[0m\u001b[0;34m(\u001b[0m\u001b[0mkey\u001b[0m\u001b[0;34m)\u001b[0m\u001b[0;34m\u001b[0m\u001b[0m\n\u001b[0m\u001b[1;32m   2689\u001b[0m \u001b[0;34m\u001b[0m\u001b[0m\n\u001b[1;32m   2690\u001b[0m     \u001b[0;32mdef\u001b[0m \u001b[0m_getitem_column\u001b[0m\u001b[0;34m(\u001b[0m\u001b[0mself\u001b[0m\u001b[0;34m,\u001b[0m \u001b[0mkey\u001b[0m\u001b[0;34m)\u001b[0m\u001b[0;34m:\u001b[0m\u001b[0;34m\u001b[0m\u001b[0m\n",
      "\u001b[0;32m~/anaconda3/lib/python3.6/site-packages/pandas/core/frame.py\u001b[0m in \u001b[0;36m_getitem_column\u001b[0;34m(self, key)\u001b[0m\n\u001b[1;32m   2693\u001b[0m         \u001b[0;31m# get column\u001b[0m\u001b[0;34m\u001b[0m\u001b[0;34m\u001b[0m\u001b[0m\n\u001b[1;32m   2694\u001b[0m         \u001b[0;32mif\u001b[0m \u001b[0mself\u001b[0m\u001b[0;34m.\u001b[0m\u001b[0mcolumns\u001b[0m\u001b[0;34m.\u001b[0m\u001b[0mis_unique\u001b[0m\u001b[0;34m:\u001b[0m\u001b[0;34m\u001b[0m\u001b[0m\n\u001b[0;32m-> 2695\u001b[0;31m             \u001b[0;32mreturn\u001b[0m \u001b[0mself\u001b[0m\u001b[0;34m.\u001b[0m\u001b[0m_get_item_cache\u001b[0m\u001b[0;34m(\u001b[0m\u001b[0mkey\u001b[0m\u001b[0;34m)\u001b[0m\u001b[0;34m\u001b[0m\u001b[0m\n\u001b[0m\u001b[1;32m   2696\u001b[0m \u001b[0;34m\u001b[0m\u001b[0m\n\u001b[1;32m   2697\u001b[0m         \u001b[0;31m# duplicate columns & possible reduce dimensionality\u001b[0m\u001b[0;34m\u001b[0m\u001b[0;34m\u001b[0m\u001b[0m\n",
      "\u001b[0;32m~/anaconda3/lib/python3.6/site-packages/pandas/core/generic.py\u001b[0m in \u001b[0;36m_get_item_cache\u001b[0;34m(self, item)\u001b[0m\n\u001b[1;32m   2487\u001b[0m         \u001b[0mres\u001b[0m \u001b[0;34m=\u001b[0m \u001b[0mcache\u001b[0m\u001b[0;34m.\u001b[0m\u001b[0mget\u001b[0m\u001b[0;34m(\u001b[0m\u001b[0mitem\u001b[0m\u001b[0;34m)\u001b[0m\u001b[0;34m\u001b[0m\u001b[0m\n\u001b[1;32m   2488\u001b[0m         \u001b[0;32mif\u001b[0m \u001b[0mres\u001b[0m \u001b[0;32mis\u001b[0m \u001b[0;32mNone\u001b[0m\u001b[0;34m:\u001b[0m\u001b[0;34m\u001b[0m\u001b[0m\n\u001b[0;32m-> 2489\u001b[0;31m             \u001b[0mvalues\u001b[0m \u001b[0;34m=\u001b[0m \u001b[0mself\u001b[0m\u001b[0;34m.\u001b[0m\u001b[0m_data\u001b[0m\u001b[0;34m.\u001b[0m\u001b[0mget\u001b[0m\u001b[0;34m(\u001b[0m\u001b[0mitem\u001b[0m\u001b[0;34m)\u001b[0m\u001b[0;34m\u001b[0m\u001b[0m\n\u001b[0m\u001b[1;32m   2490\u001b[0m             \u001b[0mres\u001b[0m \u001b[0;34m=\u001b[0m \u001b[0mself\u001b[0m\u001b[0;34m.\u001b[0m\u001b[0m_box_item_values\u001b[0m\u001b[0;34m(\u001b[0m\u001b[0mitem\u001b[0m\u001b[0;34m,\u001b[0m \u001b[0mvalues\u001b[0m\u001b[0;34m)\u001b[0m\u001b[0;34m\u001b[0m\u001b[0m\n\u001b[1;32m   2491\u001b[0m             \u001b[0mcache\u001b[0m\u001b[0;34m[\u001b[0m\u001b[0mitem\u001b[0m\u001b[0;34m]\u001b[0m \u001b[0;34m=\u001b[0m \u001b[0mres\u001b[0m\u001b[0;34m\u001b[0m\u001b[0m\n",
      "\u001b[0;32m~/anaconda3/lib/python3.6/site-packages/pandas/core/internals.py\u001b[0m in \u001b[0;36mget\u001b[0;34m(self, item, fastpath)\u001b[0m\n\u001b[1;32m   4113\u001b[0m \u001b[0;34m\u001b[0m\u001b[0m\n\u001b[1;32m   4114\u001b[0m             \u001b[0;32mif\u001b[0m \u001b[0;32mnot\u001b[0m \u001b[0misna\u001b[0m\u001b[0;34m(\u001b[0m\u001b[0mitem\u001b[0m\u001b[0;34m)\u001b[0m\u001b[0;34m:\u001b[0m\u001b[0;34m\u001b[0m\u001b[0m\n\u001b[0;32m-> 4115\u001b[0;31m                 \u001b[0mloc\u001b[0m \u001b[0;34m=\u001b[0m \u001b[0mself\u001b[0m\u001b[0;34m.\u001b[0m\u001b[0mitems\u001b[0m\u001b[0;34m.\u001b[0m\u001b[0mget_loc\u001b[0m\u001b[0;34m(\u001b[0m\u001b[0mitem\u001b[0m\u001b[0;34m)\u001b[0m\u001b[0;34m\u001b[0m\u001b[0m\n\u001b[0m\u001b[1;32m   4116\u001b[0m             \u001b[0;32melse\u001b[0m\u001b[0;34m:\u001b[0m\u001b[0;34m\u001b[0m\u001b[0m\n\u001b[1;32m   4117\u001b[0m                 \u001b[0mindexer\u001b[0m \u001b[0;34m=\u001b[0m \u001b[0mnp\u001b[0m\u001b[0;34m.\u001b[0m\u001b[0marange\u001b[0m\u001b[0;34m(\u001b[0m\u001b[0mlen\u001b[0m\u001b[0;34m(\u001b[0m\u001b[0mself\u001b[0m\u001b[0;34m.\u001b[0m\u001b[0mitems\u001b[0m\u001b[0;34m)\u001b[0m\u001b[0;34m)\u001b[0m\u001b[0;34m[\u001b[0m\u001b[0misna\u001b[0m\u001b[0;34m(\u001b[0m\u001b[0mself\u001b[0m\u001b[0;34m.\u001b[0m\u001b[0mitems\u001b[0m\u001b[0;34m)\u001b[0m\u001b[0;34m]\u001b[0m\u001b[0;34m\u001b[0m\u001b[0m\n",
      "\u001b[0;32m~/anaconda3/lib/python3.6/site-packages/pandas/core/indexes/base.py\u001b[0m in \u001b[0;36mget_loc\u001b[0;34m(self, key, method, tolerance)\u001b[0m\n\u001b[1;32m   3078\u001b[0m                 \u001b[0;32mreturn\u001b[0m \u001b[0mself\u001b[0m\u001b[0;34m.\u001b[0m\u001b[0m_engine\u001b[0m\u001b[0;34m.\u001b[0m\u001b[0mget_loc\u001b[0m\u001b[0;34m(\u001b[0m\u001b[0mkey\u001b[0m\u001b[0;34m)\u001b[0m\u001b[0;34m\u001b[0m\u001b[0m\n\u001b[1;32m   3079\u001b[0m             \u001b[0;32mexcept\u001b[0m \u001b[0mKeyError\u001b[0m\u001b[0;34m:\u001b[0m\u001b[0;34m\u001b[0m\u001b[0m\n\u001b[0;32m-> 3080\u001b[0;31m                 \u001b[0;32mreturn\u001b[0m \u001b[0mself\u001b[0m\u001b[0;34m.\u001b[0m\u001b[0m_engine\u001b[0m\u001b[0;34m.\u001b[0m\u001b[0mget_loc\u001b[0m\u001b[0;34m(\u001b[0m\u001b[0mself\u001b[0m\u001b[0;34m.\u001b[0m\u001b[0m_maybe_cast_indexer\u001b[0m\u001b[0;34m(\u001b[0m\u001b[0mkey\u001b[0m\u001b[0;34m)\u001b[0m\u001b[0;34m)\u001b[0m\u001b[0;34m\u001b[0m\u001b[0m\n\u001b[0m\u001b[1;32m   3081\u001b[0m \u001b[0;34m\u001b[0m\u001b[0m\n\u001b[1;32m   3082\u001b[0m         \u001b[0mindexer\u001b[0m \u001b[0;34m=\u001b[0m \u001b[0mself\u001b[0m\u001b[0;34m.\u001b[0m\u001b[0mget_indexer\u001b[0m\u001b[0;34m(\u001b[0m\u001b[0;34m[\u001b[0m\u001b[0mkey\u001b[0m\u001b[0;34m]\u001b[0m\u001b[0;34m,\u001b[0m \u001b[0mmethod\u001b[0m\u001b[0;34m=\u001b[0m\u001b[0mmethod\u001b[0m\u001b[0;34m,\u001b[0m \u001b[0mtolerance\u001b[0m\u001b[0;34m=\u001b[0m\u001b[0mtolerance\u001b[0m\u001b[0;34m)\u001b[0m\u001b[0;34m\u001b[0m\u001b[0m\n",
      "\u001b[0;32mpandas/_libs/index.pyx\u001b[0m in \u001b[0;36mpandas._libs.index.IndexEngine.get_loc\u001b[0;34m()\u001b[0m\n",
      "\u001b[0;32mpandas/_libs/index.pyx\u001b[0m in \u001b[0;36mpandas._libs.index.IndexEngine.get_loc\u001b[0;34m()\u001b[0m\n",
      "\u001b[0;32mpandas/_libs/hashtable_class_helper.pxi\u001b[0m in \u001b[0;36mpandas._libs.hashtable.PyObjectHashTable.get_item\u001b[0;34m()\u001b[0m\n",
      "\u001b[0;32mpandas/_libs/hashtable_class_helper.pxi\u001b[0m in \u001b[0;36mpandas._libs.hashtable.PyObjectHashTable.get_item\u001b[0;34m()\u001b[0m\n",
      "\u001b[0;31mKeyError\u001b[0m: 'Valeur'"
     ]
    }
   ],
   "source": [
    "# on restreint a la france et au blé\n",
    "vege_fr_ble_df = bilan_alim.loc[(bilan_alim.pays == 'France') & (bilan_alim.produit == 'Blé')]\n",
    "\n",
    "# on cherche les valeurs que l'on veut\n",
    "\n",
    "valeur = lambda element: vege_fr_ble_df['Valeur'][vege_fr_ble_df['Élément'] == element].values[0]\n",
    "\n",
    "production =               valeur('Production')\n",
    "importations =             valeur('Importations - Quantité')\n",
    "exportations =             valeur('Exportations - Quantité')\n",
    "variation_de_stock =       valeur('Variation de stock')\n",
    "disponibilite_interieure = valeur('Disponibilité intérieure')\n",
    "semences =                 valeur('Semences')\n",
    "pertes =                   valeur('Pertes')\n",
    "nourriture =               valeur('Nourriture')\n",
    "aliments_pour_animaux =    valeur('Aliments pour animaux')\n",
    "traitement =               valeur('Traitement')\n",
    "autres_utilisations =      valeur('Autres Utilisations')\n",
    "\n",
    "print( 'disponibilité intérieur (Millier de tonnes) : {}'.format(disponibilite_interieure))\n",
    "print('égalité de l\\'équation correcte ? -> {}'.format(\n",
    "disponibilite_interieure \\\n",
    "== nourriture + pertes + semences + autres_utilisations + aliments_pour_animaux + traitement \\\n",
    "== production + importations - exportations + variation_de_stock \n",
    "))"
   ]
  },
  {
   "cell_type": "markdown",
   "metadata": {},
   "source": [
    "> Vérification pour l'ensemble du dataset bilan_alim"
   ]
  },
  {
   "cell_type": "code",
   "execution_count": 75,
   "metadata": {},
   "outputs": [
    {
     "name": "stdout",
     "output_type": "stream",
     "text": [
      "-0.013274992583803026\n",
      "-0.7118065855829131\n"
     ]
    }
   ],
   "source": [
    "bilan_alim = bilan_alim.fillna(0)\n",
    "bilan_alim[\"tmp1\"] = bilan_alim['Production'] + bilan_alim['Importations - Quantité'] - bilan_alim['Exportations - Quantité'] + bilan_alim['Variation de stock']\n",
    "bilan_alim[\"tmp2\"] = bilan_alim['Disponibilité intérieure']\n",
    "bilan_alim[\"tmp3\"] = bilan_alim['Aliments pour animaux'] + bilan_alim['Nourriture'] + bilan_alim['Autres Utilisations'] + bilan_alim['Traitement'] + bilan_alim['Semences'] + bilan_alim['Pertes']\n",
    "print(np.mean(bilan_alim['tmp2'] - bilan_alim['tmp1']))\n",
    "print(np.mean(bilan_alim['tmp2'] - bilan_alim['tmp3']))\n",
    "del bilan_alim[\"tmp1\"]\n",
    "del bilan_alim[\"tmp2\"]\n",
    "del bilan_alim[\"tmp3\"]"
   ]
  },
  {
   "cell_type": "markdown",
   "metadata": {},
   "source": [
    "> En moyenne la disponibilité intérieure est bien très proche des ressources et des emplois"
   ]
  },
  {
   "cell_type": "markdown",
   "metadata": {},
   "source": [
    "[Retour au sommaire](#sommaire)"
   ]
  },
  {
   "cell_type": "markdown",
   "metadata": {},
   "source": [
    "***\n",
    "## <font color=blue>3. Calculez la disponibilité alimentaire (par pays et par produit)</font><a id='2.3'></a>\n",
    "***"
   ]
  },
  {
   "cell_type": "markdown",
   "metadata": {},
   "source": [
    "Calculez (pour chaque pays et chaque produit) la disponibilité alimentaire en kcal puis en kg de protéines. Vous ferez cela à partir de ces informations :\n",
    "- Population de chaque pays ;\n",
    "- Disponibilité alimentaire (\"Food Supply\" en anglais) donnée pour chaque produit et pour chaque pays en kcal/personne/jour.\n",
    "- Disponibilité alimentaire en protéines (\"Protein supply quantity\" en anglais) donnée pour chaque produit et pour chaque pays en g/personne/jour."
   ]
  },
  {
   "cell_type": "code",
   "execution_count": null,
   "metadata": {},
   "outputs": [],
   "source": [
    "# Ajouter la colonne dispo_alim_kcal\n",
    "bilan_alim[\"dispo_alim_kcal\"] = bilan_alim[\"Disponibilité alimentaire (Kcal/personne/jour)\"] * bilan_alim[\"population\"] * 365\n",
    "\n",
    "# Colonne contenant le poids de la disponibilité alimentaire pour chaque pays et produit (en kg)\n",
    "bilan_alim[\"dispo_alim_kg\"] = bilan_alim[\"Nourriture\"] * 1e6\n",
    "\n",
    "# Ajouter la colonne dispo_prot_kg\n",
    "bilan_alim[\"dispo_prot_kg\"] = bilan_alim[\"Disponibilité de protéines en quantité (g/personne/jour)\"] * 0.001 * bilan_alim[\"population\"] *365\n",
    "\n",
    "dispo_alim = bilan_alim[[\"pays\",\"annee\",\"groupe\",\"produit\",\"dispo_alim_kcal\",\"dispo_alim_kg\",\"dispo_prot_kg\"]]\n",
    "dispo_alim.head(2)"
   ]
  },
  {
   "cell_type": "markdown",
   "metadata": {},
   "source": [
    "[Retour au sommaire](#sommaire)"
   ]
  },
  {
   "cell_type": "markdown",
   "metadata": {},
   "source": [
    "***\n",
    "## <font color=blue>Q4. Calculez pour chaque produit le ratio \"énergie/poids\" en kcal/kg</font><a id='2.4'></a>\n",
    "***"
   ]
  },
  {
   "cell_type": "code",
   "execution_count": null,
   "metadata": {},
   "outputs": [],
   "source": [
    "# Calcul des ratios\n",
    "mask = dispo_alim[\"dispo_alim_kg\"] != 0\n",
    "dispo_alim.loc[mask, 'ratio_kcal/kg'] = dispo_alim.loc[mask, \"dispo_alim_kcal\"] / dispo_alim.loc[mask, \"dispo_alim_kg\"]\n",
    "dispo_alim.loc[mask, 'protein_%'] = 100 * dispo_alim.loc[mask, \"dispo_prot_kg\"] / dispo_alim.loc[mask, \"dispo_alim_kg\"]\n",
    "\n",
    "# Produits les plus caloriques\n",
    "annee = 2013\n",
    "ratio_kcal_kg = dispo_alim.groupby(\"produit\")[\"ratio_kcal/kg\"].mean()   # Regroupement par la moyenne par produit\n",
    "protein_p = dispo_alim.groupby(\"produit\")[\"protein_%\"].mean()\n",
    "produits_info = pd.DataFrame({\"ratio_kcal/kg\": ratio_kcal_kg, \"protein_%\": protein_p})"
   ]
  },
  {
   "cell_type": "code",
   "execution_count": null,
   "metadata": {
    "scrolled": false
   },
   "outputs": [],
   "source": [
    "# Trier les produits par l'apport en protéine.\n",
    "produits_info.sort_values(\"protein_%\", ascending=False)[:100]"
   ]
  },
  {
   "cell_type": "markdown",
   "metadata": {},
   "source": [
    "> Les légumineuses sont les produits apportant le plus de protéine."
   ]
  },
  {
   "cell_type": "code",
   "execution_count": null,
   "metadata": {
    "scrolled": true
   },
   "outputs": [],
   "source": [
    "# Trier les produits par l'apport en énergie.\n",
    "produits_info.sort_values(\"ratio_kcal/kg\", ascending=False)[:10]"
   ]
  },
  {
   "cell_type": "markdown",
   "metadata": {},
   "source": [
    "> Les huiles sont les produits les plus caloriques"
   ]
  },
  {
   "cell_type": "markdown",
   "metadata": {},
   "source": [
    "### Vérifions nos valeurs avec l'oeuf et l'avoine\n",
    "Le site de la confédération des producteurs d'oeufs du Quebec précise que la valeur calorique d'un oeuf de 53g est de 70 cal et 6,5 g de protéine. (https://oeuf.ca/loeuf/nutrition/valeurs-nutritives/)<br/>\n",
    "=> **Valeur nutritive d'un oeuf : 1320 kcal/kg et 12,3% de protéine**.\n",
    "\n",
    "Le site wikipédia précise que la valeur calorique pour 100g d'avoine est de 326 kcal et 10,7g de protéine.(https://fr.wikipedia.org/wiki/Avoine_cultiv%C3%A9e).\n",
    "=> **Valeur nutritive de l'avoine : 3260 kcal/kg et 10,7% de protéine**."
   ]
  },
  {
   "cell_type": "code",
   "execution_count": null,
   "metadata": {},
   "outputs": [],
   "source": [
    "# Vérifier la cohérence du résultat avec l'oeuf\n",
    "produits_info.loc['Oeufs']"
   ]
  },
  {
   "cell_type": "code",
   "execution_count": null,
   "metadata": {},
   "outputs": [],
   "source": [
    "# Vérifier la cohérence du résultat avec l'avoine\n",
    "produits_info.loc['Avoine']"
   ]
  },
  {
   "cell_type": "markdown",
   "metadata": {},
   "source": [
    "> Nos valeurs sont donc cohérentes"
   ]
  },
  {
   "cell_type": "markdown",
   "metadata": {},
   "source": [
    "[Retour au sommaire](#sommaire)"
   ]
  },
  {
   "cell_type": "markdown",
   "metadata": {},
   "source": [
    "***\n",
    "## <font color=blue>Q5. Citez 5 aliments parmi les plus caloriques et les plus riches en protéines.</font><a id='2.5'></a>\n",
    "***\n",
    "\n",
    "(en utilisant le ratio énergie/poids)    \n",
    "Étonnamment, il arrive que ce ratio soit différent en fonction du pays. Il faudra donc réaliser pour chaque aliment une moyenne sur les différents pays. Vous créerez donc une nouvelle table grâce à une agrégation. __Attention à bien retirer les valeurs égales à 0 afin de ne pas fausser le calcul de la moyenne__.</span>"
   ]
  },
  {
   "cell_type": "code",
   "execution_count": null,
   "metadata": {},
   "outputs": [],
   "source": [
    "round(produits_info[\"protein_%\"],1).nlargest(5)"
   ]
  },
  {
   "cell_type": "code",
   "execution_count": null,
   "metadata": {
    "scrolled": false
   },
   "outputs": [],
   "source": [
    "round(produits_info[\"ratio_kcal/kg\"],1).nlargest(5)"
   ]
  },
  {
   "cell_type": "markdown",
   "metadata": {},
   "source": [
    "[Retour au sommaire](#sommaire)"
   ]
  },
  {
   "cell_type": "markdown",
   "metadata": {},
   "source": [
    "***\n",
    "## <font color=blue>Q6. Calculez, pour les produits végétaux uniquement, la disponibilité intérieure mondiale exprimée en kcal.</font><a id='2.6'></a>\n",
    "***"
   ]
  },
  {
   "cell_type": "code",
   "execution_count": null,
   "metadata": {
    "scrolled": true
   },
   "outputs": [],
   "source": [
    "dispo_int_veg = pd.merge(df_bilan, produits_info, on ='produit')\n",
    "dispo_int_veg.head(2)"
   ]
  },
  {
   "cell_type": "code",
   "execution_count": null,
   "metadata": {},
   "outputs": [],
   "source": [
    "dispo_int_veg = dispo_int_veg[['codePays', 'pays', 'produit', 'annee', 'groupe',\n",
    "       'Disponibilité intérieure','ratio_kcal/kg', 'protein_%']]\n",
    "dispo_int_veg.fillna(0, inplace=True)\n",
    "dispo_int_veg.head(2)"
   ]
  },
  {
   "cell_type": "code",
   "execution_count": null,
   "metadata": {},
   "outputs": [],
   "source": [
    "# Ajout de la disponibilité intérieure en kcal\n",
    "dispo_int_veg[\"dispo_int_kcal\"] = dispo_int_veg[\"Disponibilité intérieure\"] * 1e6 * dispo_int_veg[\"ratio_kcal/kg\"]\n",
    "dispo_int_veg[\"dispo_int_kg_prot\"] = dispo_int_veg[\"Disponibilité intérieure\"] * 1e6 * dispo_int_veg[\"protein_%\"] * .01\n",
    "dispo_int_veg.head(2)"
   ]
  },
  {
   "cell_type": "code",
   "execution_count": null,
   "metadata": {},
   "outputs": [],
   "source": [
    "dispo_int_veg_kcal = dispo_int_veg.dispo_int_kcal.sum()\n",
    "dispo_int_veg_kcal"
   ]
  },
  {
   "cell_type": "code",
   "execution_count": null,
   "metadata": {},
   "outputs": [],
   "source": [
    "dispo_int_veg_prot = dispo_int_veg.dispo_int_kg_prot.sum()\n",
    "dispo_int_veg_prot"
   ]
  },
  {
   "cell_type": "code",
   "execution_count": null,
   "metadata": {},
   "outputs": [],
   "source": [
    "# Calculer la disponibilité intérieure en Kcal et kg de protéine annuel des végétaux au niveau mondiale\n",
    "gb = dispo_int_veg.groupby('annee')\n",
    "pd.DataFrame({\"dispo_int_kcal\": gb[\"dispo_int_kcal\"].sum(), \"dispo_int_kgProt\": gb[\"dispo_int_kg_prot\"].sum()})"
   ]
  },
  {
   "cell_type": "markdown",
   "metadata": {},
   "source": [
    "[Retour au sommaire](#sommaire)"
   ]
  },
  {
   "cell_type": "markdown",
   "metadata": {},
   "source": [
    "***\n",
    "## <font color=blue>Q7. Combien d'humains pourraient être nourris si toute la disponibilité intérieure mondiale de produits végétaux était utilisée pour de la nourriture.</font><a id='2.7'></a>\n",
    "***"
   ]
  },
  {
   "cell_type": "markdown",
   "metadata": {},
   "source": [
    "> Donnez les résultats en termes de calories, puis de protéines, et exprimez ensuite ces 2 résultats en pourcentage de la population mondiale."
   ]
  },
  {
   "cell_type": "markdown",
   "metadata": {},
   "source": [
    "***\n",
    "En terme de Kcal :\n",
    "Après des recherches sur le site de la FAO, nous estimons qu'en moyenne, le minimum d'énergie requis est de 1850Kcal/jour.\n",
    "\n",
    "Source: Minimum Dietary Energy Requirement (kcal/person/day)\n",
    "http://www.fao.org/fileadmin/templates/ess/documents/food_security_statistics/MinimumDietaryEnergyRequirement_en.xls\n",
    "***"
   ]
  },
  {
   "cell_type": "code",
   "execution_count": null,
   "metadata": {},
   "outputs": [],
   "source": [
    "# Nombre de calories par jour et par personne\n",
    "kcal_jour_reco = 1850"
   ]
  },
  {
   "cell_type": "code",
   "execution_count": null,
   "metadata": {
    "scrolled": true
   },
   "outputs": [],
   "source": [
    "print(\"Le nombre d'humains qui pourraient être nourris si toute la production végétale\\\n",
    " était utilisée pour la nourriture est de {} milliards de personnes\"\n",
    "      .format(round((dispo_int_veg_kcal / 365 / kcal_jour_reco / 10**9),2)))\n",
    "\n",
    "print(\"Ce qui représente {}% de la population mondiale\"\n",
    "      .format(round((dispo_int_veg_kcal / 365 / kcal_jour_reco)/(nb_humains_total)*100),2))"
   ]
  },
  {
   "cell_type": "markdown",
   "metadata": {},
   "source": [
    "***\n",
    "En terme de protéine :\n",
    "Après des recherches, le poids moyen d'un humain est de 62kg et le besoin en protéines moyens pour un humain est de 0.9 g/kg/jour<br/>\n",
    "=> 0.0558 g de protéine / jour<br/>\n",
    "Source : https://en.wikipedia.org/wiki/Human_body_weight\n",
    "***"
   ]
  },
  {
   "cell_type": "code",
   "execution_count": null,
   "metadata": {},
   "outputs": [],
   "source": [
    "# Besoin en protéines moyens pour un humain : 0.9 g/kg/jour\n",
    "prot_jour_reco = 62 * .9 * .001"
   ]
  },
  {
   "cell_type": "code",
   "execution_count": null,
   "metadata": {
    "scrolled": true
   },
   "outputs": [],
   "source": [
    "print(\"Le nombre d'humains qui pourraient être nourris si toute la production végétale\\\n",
    " était utilisée pour la nourriture est de {} milliards de personnes\"\n",
    "      .format(round((dispo_int_veg_prot / 365 / prot_jour_reco / 10**9),2)))\n",
    "\n",
    "print(\"Ce qui représente {}% de la population mondiale\"\n",
    "      .format(round((dispo_int_veg_prot / 365 / prot_jour_reco)/(nb_humains_total)*100),2))"
   ]
  },
  {
   "cell_type": "markdown",
   "metadata": {},
   "source": [
    "[Retour au sommaire](#sommaire)"
   ]
  },
  {
   "cell_type": "markdown",
   "metadata": {},
   "source": [
    "***\n",
    "## <font color=blue>Q8. Combien d'humains pourraient être nourris si toute la disponibilité alimentaire en produits végétaux (Food), la nourriture végétale destinée aux animaux (Feed) et les pertes de produits végétaux (Losses) étaient utilisés pour de la nourriture ?</font><a id='2.8'></a>\n",
    "***"
   ]
  },
  {
   "cell_type": "code",
   "execution_count": null,
   "metadata": {
    "scrolled": true
   },
   "outputs": [],
   "source": [
    "# Jointure de la table complète 'bilan_alim' et la table des ratios 'produits_info'\n",
    "bilan_alim_prod = pd.merge(bilan_alim, produits_info, on ='produit')"
   ]
  },
  {
   "cell_type": "code",
   "execution_count": null,
   "metadata": {},
   "outputs": [],
   "source": [
    "bilan_alim_prod[\"food_feed_losses_kcal\"] = bilan_alim_prod[[\"Nourriture\",\"Aliments pour animaux\",\"Pertes\"]].sum(axis=1) \\\n",
    "                                        * 1e6 * bilan_alim_prod[\"ratio_kcal/kg\"]\n",
    "bilan_alim_prod[\"food_feed_losses_kgprot\"] = bilan_alim_prod[[\"Nourriture\",\"Aliments pour animaux\",\"Pertes\"]].sum(axis=1) \\\n",
    "                                        * 1e6 * bilan_alim_prod[\"protein_%\"] * .01\n",
    "# Selection des produits vegetaux\n",
    "vegetal = bilan_alim_prod[bilan_alim_prod[\"groupe\"] == \"vegetal\"]\n",
    "\n",
    "# Calcul de la dispo. alim., nouriture animale et pertes par année\n",
    "q_kcal = vegetal.groupby(\"annee\")[\"food_feed_losses_kcal\"].sum()\n",
    "q_kgprot = vegetal.groupby(\"annee\")[\"food_feed_losses_kgprot\"].sum()\n",
    "quantity = pd.DataFrame({\"kcal\": q_kcal, \"kgprot\": q_kgprot})\n",
    "quantity"
   ]
  },
  {
   "cell_type": "code",
   "execution_count": null,
   "metadata": {
    "scrolled": true
   },
   "outputs": [],
   "source": [
    "# Calculer la populattion pouvant être nourrie\n",
    "\n",
    "population = (quantity.loc[2013, \"kcal\"]) / 365 / kcal_jour_reco\n",
    "print(\"En termes calorifiques, la population potentiellement nourrie par la disponibilité alimentaire, \\\n",
    "la nouriture animale et les pertes de produits végétaux est de: \\\n",
    "\\n{} Miliards, soit {}% de la population mondiale.\"\n",
    "      .format(round(population/1e9,2), round(100*population/nb_humains_total)))\n",
    "\n",
    "print(\"- \" * 58)\n",
    "\n",
    "population = quantity.loc[2013, \"kgprot\"] / 365 / prot_jour_reco\n",
    "print(\"En termes de protéines, la population potentiellement nourrie par la disponibilité alimentaire, \\\n",
    "la nouriture animale et les pertes de produits végétaux est de:\\\n",
    "\\n{} Miliards, soit {}% de la population mondiale.\"\n",
    "      .format(round(population/1e9,2), round(100*population/nb_humains_total)))\n"
   ]
  },
  {
   "cell_type": "markdown",
   "metadata": {},
   "source": [
    "[Retour au sommaire](#sommaire)"
   ]
  },
  {
   "cell_type": "markdown",
   "metadata": {},
   "source": [
    "***\n",
    "## <font color=blue>Q9. Combien d'humains pourraient être nourris avec la disponibilité alimentaire mondiale ?</font><a id='2.9'></a>\n",
    "***"
   ]
  },
  {
   "cell_type": "markdown",
   "metadata": {},
   "source": [
    "> Les colonnes de la dispo alimentaire en kcal et en g de protéine sont déjà dans le dataframe 'vegetal'"
   ]
  },
  {
   "cell_type": "code",
   "execution_count": null,
   "metadata": {
    "scrolled": true
   },
   "outputs": [],
   "source": [
    "# Calcul de la dispo. alim., nouriture animale et pertes par année\n",
    "q_kcal = vegetal.groupby(\"annee\")[\"dispo_alim_kcal\"].sum()\n",
    "q_kgprot = vegetal.groupby(\"annee\")[\"dispo_prot_kg\"].sum()\n",
    "quantity = pd.DataFrame({\"kcal\": q_kcal, \"kgprot\": q_kgprot})\n",
    "quantity"
   ]
  },
  {
   "cell_type": "code",
   "execution_count": null,
   "metadata": {},
   "outputs": [],
   "source": [
    "# Calculer la population pouvant être nourrie\n",
    "\n",
    "population = (quantity.loc[2013, \"kcal\"]) / 365 / kcal_jour_reco\n",
    "print(\"En termes calorifiques, la population potentiellement nourrie par la disponibilité alimentaire est de :\\\n",
    "      \\n{} Miliards, soit {}% de la population mondiale.\"\n",
    "      .format(round(population/1e9,2), round(100*population/nb_humains_total)))\n",
    "\n",
    "print(\"- \" * 58)\n",
    "\n",
    "population = quantity.loc[2013, \"kgprot\"] / 365 / prot_jour_reco\n",
    "print(\"En termes de protéines, la population potentiellement nourrie par la disponibilité alimentaire est de :\\\n",
    "\\n{} Miliards, soit {}% de la population mondiale.\"\n",
    "      .format(round(population/1e9,2), round(100*population/nb_humains_total)))"
   ]
  },
  {
   "cell_type": "markdown",
   "metadata": {},
   "source": [
    "[Retour au sommaire](#sommaire)"
   ]
  },
  {
   "cell_type": "markdown",
   "metadata": {},
   "source": [
    "***\n",
    "## <font color=blue>Q10. Quelle proportion de la population mondiale est considérée comme étant en sous-nutrition ?</font><a id='2.10'></a>\n",
    "***"
   ]
  },
  {
   "cell_type": "code",
   "execution_count": null,
   "metadata": {
    "scrolled": false
   },
   "outputs": [],
   "source": [
    "# Jointure du fichier population et du fichier sous nutrition (sur pays/annee)\n",
    "sous_alim_pop = pd.merge(sous_alim,pop)\n",
    "sous_alim_pop = sous_alim_pop.set_index(\"pays\")\n",
    "\n",
    "# Calcul du pourcentage de personnes en sous-nutrition\n",
    "sous_alim_pop[\"sous_nutrition_%\"] = round((sous_alim_pop[\"nb_pers_sousalim\"] / sous_alim_pop[\"population\"] *100),1)\n",
    "sous_alim_pop['sous_nutrition_%'].sort_values(ascending = False).head(10)"
   ]
  },
  {
   "cell_type": "code",
   "execution_count": null,
   "metadata": {
    "scrolled": true
   },
   "outputs": [],
   "source": [
    "nb_pers_sousalim_total = sous_alim_pop['nb_pers_sousalim'].sum()\n",
    "\n",
    "print('Le nombre total de personnes sous-alimentées au niveau mondial est de {:,} personnes.'.format(\n",
    "int(nb_pers_sousalim_total)))\n",
    "print('Soit environ {} millions de personnes, ce qui correspond à {}% de la population mondiale'\\\n",
    "      .format(round((nb_pers_sousalim_total/1e6),2),(round(nb_pers_sousalim_total/nb_humains_total*100,1))))"
   ]
  },
  {
   "cell_type": "markdown",
   "metadata": {},
   "source": [
    "[Retour au sommaire](#sommaire)"
   ]
  },
  {
   "cell_type": "markdown",
   "metadata": {},
   "source": [
    "***\n",
    "## <font color=blue>Q11. En ne prenant en compte que les céréales destinées à l'alimentation (humaine et animale), quelle proportion (en termes de poids) est destinée à l'alimentation animale ?</font><a id='2.11'></a>\n",
    "***"
   ]
  },
  {
   "cell_type": "markdown",
   "metadata": {},
   "source": [
    "- Établissez la liste des produits (ainsi que leur code) considéré comme des céréales selon la FAO.\n"
   ]
  },
  {
   "cell_type": "code",
   "execution_count": null,
   "metadata": {},
   "outputs": [],
   "source": [
    "# Liste des céréales\n",
    "cereal_list = cereal[[\"Produit\",\"Code Produit\"]].drop_duplicates()\n",
    "cereal_list"
   ]
  },
  {
   "cell_type": "markdown",
   "metadata": {},
   "source": [
    "- Repérez dans vos données les informations concernant les céréales (par exemple en créant une colonne de type booléen nommée \"is_cereal\")</span>"
   ]
  },
  {
   "cell_type": "code",
   "execution_count": null,
   "metadata": {},
   "outputs": [],
   "source": [
    "bilan_alim[\"is_cereal\"] = bilan_alim.produit.isin(cereal_list['Produit'].values)\n",
    "bilan_alim_cereal = bilan_alim.loc[bilan_alim['is_cereal'] == True]\n",
    "bilan_alim_cereal.head(2)"
   ]
  },
  {
   "cell_type": "code",
   "execution_count": null,
   "metadata": {
    "scrolled": true
   },
   "outputs": [],
   "source": [
    "cereal_nourriture = bilan_alim_cereal[\"Nourriture\"].sum()\n",
    "cereal_animaux = bilan_alim_cereal[\"Aliments pour animaux\"].sum()\n",
    "print(\"{}% des céréales destinées à l'alimentation (humaine et animale) est destinée à l'alimentation animale \"\n",
    "      .format(round(100*cereal_animaux/(cereal_animaux+cereal_nourriture))))"
   ]
  },
  {
   "cell_type": "markdown",
   "metadata": {},
   "source": [
    "<a id=\"sommaire\"></a>"
   ]
  },
  {
   "cell_type": "markdown",
   "metadata": {},
   "source": [
    "[Retour au sommaire](#sommaire)"
   ]
  },
  {
   "cell_type": "markdown",
   "metadata": {},
   "source": [
    "***\n",
    "## <font color=blue>Q12. Donnez les 3 produits qui ont la plus grande valeur pour chacun des 2 ratios.</font><a id='2.12'></a>\n",
    "***"
   ]
  },
  {
   "cell_type": "markdown",
   "metadata": {},
   "source": [
    "Sélectionnez parmi les données des bilans alimentaires les informations relatives aux pays dans lesquels la FAO recense des personnes en sous-nutrition, pour une année choisie"
   ]
  },
  {
   "cell_type": "code",
   "execution_count": null,
   "metadata": {},
   "outputs": [],
   "source": [
    "## Jointure entre le fichier 'sous alimentation' et 'bilan alimentaire'\n",
    "und_data = pd.merge(sous_alim_pop, bilan_alim)\n",
    "und_data.head(2)"
   ]
  },
  {
   "cell_type": "markdown",
   "metadata": {},
   "source": [
    "Donnez les 15 produits les plus exportés par ce groupe de pays sur l'année choisie"
   ]
  },
  {
   "cell_type": "code",
   "execution_count": null,
   "metadata": {
    "scrolled": false
   },
   "outputs": [],
   "source": [
    "# calcul des % d'export\n",
    "und_data = und_data.groupby([\"produit\",\"annee\"])['Exportations - Quantité','Importations - Quantité'].sum()\n",
    "und_data = und_data.sort_values(\"Exportations - Quantité\", ascending = False)\n",
    "und_data = und_data.reset_index()\n",
    "#und_data = und_data.set_index('produit')\n",
    "und_data.head(n=15)"
   ]
  },
  {
   "cell_type": "code",
   "execution_count": null,
   "metadata": {},
   "outputs": [],
   "source": [
    "# Produits les plus exportés par les pays en sous nutrition\n",
    "produit_export = und_data.iloc[:15,][\"produit\"].values\n",
    "produit_export"
   ]
  },
  {
   "cell_type": "markdown",
   "metadata": {},
   "source": [
    "Parmi les données des bilans alimentaires au niveau mondial, sélectionnez les 200 plus grandes importations de ces produits (1 importation = une quantité d'un produit donné importée par un pays donné sur l'année choisie)"
   ]
  },
  {
   "cell_type": "code",
   "execution_count": null,
   "metadata": {},
   "outputs": [],
   "source": [
    "importations = bilan_alim[(bilan_alim.produit.isin(produit_export)) & (bilan_alim.annee == annee)]\n",
    "importations.sort_values(\"Importations - Quantité\").iloc[200:,]"
   ]
  },
  {
   "cell_type": "markdown",
   "metadata": {},
   "source": [
    "Groupez ces importations par produit, afin d'avoir une table contenant 1 ligne pour chacun des 15 produits. Ensuite, calculez pour chaque produit les 2 quantités suivantes : \n",
    "- le ratio entre la quantité destinés aux \"Autres utilisations\" et la disponibilité intérieure.\n",
    "- le ratio entre la quantité destinée à la nouriture animale et la quantité destinée à la nouriture (animale + humaine)"
   ]
  },
  {
   "cell_type": "code",
   "execution_count": null,
   "metadata": {},
   "outputs": [],
   "source": [
    "# Grouper les importations par produit\n",
    "imp = importations.groupby(['produit']).sum()\n",
    "\n",
    "imp[\"autre_utilisation_%\"]  = round((imp['Autres Utilisations']/imp['Disponibilité intérieure']),1)\n",
    "imp[\"alim_animaux_vs_alimentation\"]  = round((imp['Aliments pour animaux']/(imp['Aliments pour animaux']+imp['Nourriture']) *100),1)\n",
    "\n",
    "imp.sort_values(\"autre_utilisation_%\", ascending = False).iloc[:3]"
   ]
  },
  {
   "cell_type": "code",
   "execution_count": null,
   "metadata": {},
   "outputs": [],
   "source": [
    "imp.sort_values(\"alim_animaux_vs_alimentation\", ascending = False).iloc[:3]"
   ]
  },
  {
   "cell_type": "markdown",
   "metadata": {},
   "source": [
    "***\n",
    "## <font color=blue>Q13. Combien de tonnes de céréales pourraient être libérées si les USA diminuaient leur consommation de viande de 10% ?</font><a id='2.13'></a>\n",
    "***"
   ]
  },
  {
   "cell_type": "code",
   "execution_count": null,
   "metadata": {},
   "outputs": [],
   "source": [
    "bilan_alim_USA = bilan_alim[(bilan_alim.pays == 'États-Unis d\\'Amérique') & (bilan_alim.annee == annee)]"
   ]
  },
  {
   "cell_type": "code",
   "execution_count": null,
   "metadata": {},
   "outputs": [],
   "source": [
    "tonnes_cereales_liberees = bilan_alim_USA.loc[:,'Aliments pour animaux'].sum() * 0.1\n",
    "tonnes_cereales_liberees"
   ]
  },
  {
   "cell_type": "markdown",
   "metadata": {},
   "source": [
    "[Retour au sommaire](#sommaire)"
   ]
  },
  {
   "cell_type": "markdown",
   "metadata": {},
   "source": [
    "***\n",
    "## <font color=blue>Q14. En Thaïlande, quelle proportion de manioc est exportée ? Quelle est la proportion de personnes en sous-nutrition ?</font><a id='2.14'></a>\n",
    "***"
   ]
  },
  {
   "cell_type": "code",
   "execution_count": null,
   "metadata": {
    "scrolled": true
   },
   "outputs": [],
   "source": [
    "sous_alim_pop[sous_alim_pop.index == \"Thaïlande\"]"
   ]
  },
  {
   "cell_type": "code",
   "execution_count": null,
   "metadata": {
    "scrolled": true
   },
   "outputs": [],
   "source": [
    "bilan_alim[(bilan_alim.produit == 'Manioc')&(bilan_alim.pays == 'Thaïlande')]"
   ]
  },
  {
   "cell_type": "markdown",
   "metadata": {},
   "source": [
    "[Retour au sommaire](#sommaire)"
   ]
  }
 ],
 "metadata": {
  "kernelspec": {
   "display_name": "Python 3",
   "language": "python",
   "name": "python3"
  },
  "language_info": {
   "codemirror_mode": {
    "name": "ipython",
    "version": 3
   },
   "file_extension": ".py",
   "mimetype": "text/x-python",
   "name": "python",
   "nbconvert_exporter": "python",
   "pygments_lexer": "ipython3",
   "version": "3.6.6"
  }
 },
 "nbformat": 4,
 "nbformat_minor": 2
}
